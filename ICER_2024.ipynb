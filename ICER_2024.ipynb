{
  "nbformat": 4,
  "nbformat_minor": 0,
  "metadata": {
    "colab": {
      "provenance": []
    },
    "kernelspec": {
      "name": "python3",
      "display_name": "Python 3"
    },
    "language_info": {
      "name": "python"
    }
  },
  "cells": [
    {
      "cell_type": "code",
      "execution_count": 1,
      "metadata": {
        "colab": {
          "base_uri": "https://localhost:8080/"
        },
        "id": "8MSN1zaamts8",
        "outputId": "1d883396-be7a-49be-847d-d9986905d102"
      },
      "outputs": [
        {
          "output_type": "stream",
          "name": "stdout",
          "text": [
            "Drive already mounted at /content/drive; to attempt to forcibly remount, call drive.mount(\"/content/drive\", force_remount=True).\n"
          ]
        }
      ],
      "source": [
        "from google.colab import drive\n",
        "drive.mount('/content/drive')"
      ]
    },
    {
      "cell_type": "code",
      "source": [
        "import numpy as np\n",
        "import pandas as pd\n",
        "from collections import Counter\n",
        "from sklearn.model_selection import train_test_split\n",
        "from sklearn.neighbors import KNeighborsClassifier\n",
        "from sklearn.tree import DecisionTreeClassifier\n",
        "from sklearn.linear_model import LogisticRegression\n",
        "from sklearn.metrics import accuracy_score, confusion_matrix, classification_report, precision_score, recall_score, f1_score\n",
        "from imblearn.over_sampling import SMOTE\n",
        "from imblearn.under_sampling import NearMiss\n",
        "from imblearn.under_sampling import RandomUnderSampler\n",
        "from imblearn.combine import SMOTEENN\n",
        "import seaborn as sns\n",
        "from sklearn import neighbors\n",
        "from sklearn.metrics import mean_squared_error\n",
        "from math import sqrt\n",
        "from xgboost import XGBClassifier\n",
        "from sklearn.model_selection import train_test_split\n",
        "from sklearn.metrics import accuracy_score\n",
        "from sklearn.datasets import load_wine\n",
        "from sklearn.metrics import cohen_kappa_score\n",
        "from sklearn.metrics import roc_curve, roc_auc_score\n",
        "from sklearn.model_selection import cross_val_score\n",
        "from sklearn.model_selection import RepeatedStratifiedKFold\n",
        "from sklearn.neighbors import KNeighborsClassifier\n",
        "from sklearn.tree import DecisionTreeClassifier\n",
        "from sklearn.neural_network import MLPClassifier\n",
        "from sklearn.svm import SVC\n",
        "from matplotlib import pyplot\n",
        "from sklearn.linear_model import LogisticRegression\n",
        "from statistics import mean\n",
        "from numpy import std\n",
        "from scipy import stats"
      ],
      "metadata": {
        "id": "klWcgDRCm3N8"
      },
      "execution_count": 2,
      "outputs": []
    },
    {
      "cell_type": "code",
      "source": [
        "ATT = pd.read_csv(\"/content/drive/MyDrive/ADA/TESE/ATT3.csv\",delimiter=r\";\")"
      ],
      "metadata": {
        "id": "G6QmrDkDn-Ij"
      },
      "execution_count": 3,
      "outputs": []
    },
    {
      "cell_type": "code",
      "source": [
        "ATT.value_counts('p1')"
      ],
      "metadata": {
        "colab": {
          "base_uri": "https://localhost:8080/"
        },
        "id": "3lCXt1w40aVM",
        "outputId": "b745a192-d0e4-49e9-aaa4-cb014ccd6666"
      },
      "execution_count": 4,
      "outputs": [
        {
          "output_type": "execute_result",
          "data": {
            "text/plain": [
              "p1\n",
              "0    7000\n",
              "1    4330\n",
              "dtype: int64"
            ]
          },
          "metadata": {},
          "execution_count": 4
        }
      ]
    },
    {
      "cell_type": "code",
      "source": [
        "ATT=ATT.rename(columns={'class': 'abuso'})"
      ],
      "metadata": {
        "id": "ZI15BZA70ljI"
      },
      "execution_count": 5,
      "outputs": []
    },
    {
      "cell_type": "code",
      "source": [
        "ATT[(ATT['turma']==2)].value_counts('turma')\n"
      ],
      "metadata": {
        "colab": {
          "base_uri": "https://localhost:8080/"
        },
        "id": "TG76vPx_IZPQ",
        "outputId": "9227c5e7-55e6-4730-91b6-f7bab25e13d3"
      },
      "execution_count": 7,
      "outputs": [
        {
          "output_type": "execute_result",
          "data": {
            "text/plain": [
              "turma\n",
              "2    4492\n",
              "dtype: int64"
            ]
          },
          "metadata": {},
          "execution_count": 7
        }
      ]
    },
    {
      "cell_type": "code",
      "source": [
        "ATT.value_counts('abuso')"
      ],
      "metadata": {
        "colab": {
          "base_uri": "https://localhost:8080/"
        },
        "id": "F1WaQ5OdWXL9",
        "outputId": "e138a657-9e8d-42b6-8655-cc94d76ee653"
      },
      "execution_count": 8,
      "outputs": [
        {
          "output_type": "execute_result",
          "data": {
            "text/plain": [
              "abuso\n",
              "1    5867\n",
              "0    5463\n",
              "dtype: int64"
            ]
          },
          "metadata": {},
          "execution_count": 8
        }
      ]
    },
    {
      "cell_type": "code",
      "source": [
        "ATT3=ATT[['turma','idSection','idStudent','idProblem','idAttempt','timeAttempt','isCorrectAnswer','answerCode','hasSkipped','idEvent','number','timeEvent','typeEvent','answerProblemLevelStudent','answerProblemLevelSystem','abuso']]"
      ],
      "metadata": {
        "id": "fXxJwx5MiMMX"
      },
      "execution_count": 9,
      "outputs": []
    },
    {
      "cell_type": "code",
      "source": [
        "#ATT3.value_counts('p1')\n",
        "ATT2=ATT3"
      ],
      "metadata": {
        "id": "_2MDJtEiohPt"
      },
      "execution_count": 10,
      "outputs": []
    },
    {
      "cell_type": "code",
      "source": [
        "import numpy as np\n",
        "import pandas as pd\n",
        "from sklearn.model_selection import KFold\n",
        "from sklearn.linear_model import LinearRegression\n",
        "from sklearn.metrics import mean_squared_error\n",
        "import numpy as np\n",
        "from sklearn.model_selection import StratifiedKFold\n",
        "from sklearn.preprocessing import StandardScaler\n",
        "from sklearn.linear_model import LogisticRegression\n",
        "from sklearn.metrics import precision_score, recall_score\n",
        "from sklearn.metrics import accuracy_score"
      ],
      "metadata": {
        "id": "w0nBRzYmTm-Y"
      },
      "execution_count": 12,
      "outputs": []
    },
    {
      "cell_type": "markdown",
      "source": [
        "## **Train**"
      ],
      "metadata": {
        "id": "QBTGr7UAIjSO"
      }
    },
    {
      "cell_type": "markdown",
      "source": [
        "**CART**"
      ],
      "metadata": {
        "id": "HghdyViIHu3w"
      }
    },
    {
      "cell_type": "code",
      "source": [
        "folds = StratifiedKFold(n_splits=15, shuffle=True, random_state=42)\n",
        "\n",
        "d_precisoes = list()\n",
        "d_revocacoes = list()\n",
        "d_acuracias = list()\n",
        "d_f1s = list()\n",
        "d_kaps = list()\n",
        "d_rocs = list()\n",
        "\n",
        "scaler = StandardScaler()\n",
        "\n",
        "# Transformando X e y em respectivamente, um dataframe e uma série do pandas.\n",
        "# Isto é feito para se ter acesso aos índices de cada instância.\n",
        "X = ATT2.drop(\"abuso\", axis=1)\n",
        "y = ATT2.abuso\n",
        "\n",
        "for k, (train_index, test_index) in enumerate(folds.split(X, y)):\n",
        "    print(\"=-\"*6 + f\"Fold: {k+1}\" + \"-=\"*6)\n",
        "\n",
        "    # Dividindo os dados em treino e teste para cada um dos folds\n",
        "    X_train, X_test = X.iloc[train_index], X.iloc[test_index]\n",
        "    y_train, y_test = y[train_index], y[test_index]\n",
        "    # train_index e test_index: São os índices das instâncias do conjunto\n",
        "    # de treino e teste, respectivamente, selecionados em cada um dos folds\n",
        "\n",
        "    # Escalonando os dados. Todas as colunas serão passadas para uma\n",
        "    # distribuição normal, garantindo que as características estejam\n",
        "    # em uma mesma escala numérica\n",
        "    X_train = scaler.fit_transform(X_train)\n",
        "    X_test = scaler.transform(X_test)\n",
        "\n",
        "    # instanciando e treinando o modelo\n",
        "    modelo =DecisionTreeClassifier()\n",
        "    modelo.fit(X_train, y_train)\n",
        "\n",
        "    # Obtendo as probabilidades das classes previstas\n",
        "    y_pred_proba = modelo.predict_proba(X_train)\n",
        "\n",
        "    # Obtendo as previsões do modelo\n",
        "    y_pred = modelo.predict(X_train)\n",
        "\n",
        "    # Calculando a precisão, revocação e acurácia para o fold em questão\n",
        "    precisao = precision_score(y_train, y_pred, average = \"weighted\")\n",
        "    revocacao = recall_score(y_train, y_pred, average = \"weighted\")\n",
        "    acuracia = accuracy_score(y_train, y_pred)\n",
        "    f1=f1_score(y_train, y_pred)\n",
        "    kappa=cohen_kappa_score(y_train, y_pred)\n",
        "    roc=roc_auc_score(y_train, y_pred)\n",
        "\n",
        "    # Armazenando as precisões, revocações e acurácias nas listas criadas\n",
        "    d_precisoes.append(precisao)\n",
        "    d_revocacoes.append(revocacao)\n",
        "    d_acuracias.append(acuracia)\n",
        "    d_f1s.append(f1)\n",
        "    d_kaps.append(kappa)\n",
        "    d_rocs.append(roc)\n",
        "\n",
        "    # Exibindo as métricas para cada um dos folds\n",
        "    #print(f\"Precisão: {precisao:.3f}\")\n",
        "    #print(f\"Revocação: {revocacao:.3f}\")\n",
        "    #print(f\"Acurácia: {acuracia:.3f}\")\n",
        "    #print(f\"F1: {f1:.3f}\")\n",
        "    #print(f\"Kappa: {kappa:.3f}\")\n",
        "    #print(f\"Roc: {roc:.3f}\")\n",
        "\n",
        "    # Transformando as listas precisões, revocações, acurácias em arrays,\n",
        "# para fazer operações matemáticas\n",
        "d_precisoes = np.array(d_precisoes)\n",
        "d_revocacoes = np.array(d_revocacoes)\n",
        "d_acuracias = np.array(d_acuracias)\n",
        "d_f1s = np.array(d_f1s)\n",
        "d_kaps = np.array(d_kaps)\n",
        "d_rocs = np.array(d_rocs)\n",
        "\n",
        "# Calculando a média de todas as precisões, revocações e acurácias\n",
        "d_media_precisao = np.mean(d_precisoes)\n",
        "d_media_revocacao = np.mean(d_revocacoes)\n",
        "d_media_acuracia = np.mean(d_acuracias)\n",
        "d_media_f1s = np.mean(d_f1s)\n",
        "d_media_kaps = np.mean(d_kaps)\n",
        "d_media_rocs = np.mean(d_rocs)\n",
        "\n",
        "# Calculando o desvio padrão de todas as precisões, revocações e acurácias\n",
        "std_precisao = np.std(d_precisoes)\n",
        "std_revocacao = np.std(d_revocacoes)\n",
        "std_acuracia = np.std(d_acuracias)\n",
        "std_f1s = np.std(d_f1s)\n",
        "std_kaps = np.std(d_kaps)\n",
        "std_rocs = np.std(d_rocs)\n",
        "\n",
        "# Exibindo a média das precisões e revocações\n",
        "print(f\"Média da precisão: {d_media_precisao:.3f} +/- {std_precisao:.3f}\")\n",
        "print(f\"Média da revocação: {d_media_revocacao:.3f} +/- {std_revocacao:.3f}\")\n",
        "print(f\"Média da acurácia: {d_media_acuracia:.3f} +/- {std_acuracia:.3f}\")\n",
        "print(f\"Média da f1: {d_media_f1s:.3f} +/- {std_f1s:.3f}\")\n",
        "print(f\"Média da kappa: {d_media_kaps:.3f} +/- {std_kaps:.3f}\")\n",
        "print(f\"Média da roc: {d_media_rocs:.3f} +/- {std_rocs:.3f}\")"
      ],
      "metadata": {
        "colab": {
          "base_uri": "https://localhost:8080/"
        },
        "id": "epwesKRLCsxM",
        "outputId": "548e56eb-d41f-4245-8c70-dceaeb2fe0f8"
      },
      "execution_count": 38,
      "outputs": [
        {
          "output_type": "stream",
          "name": "stdout",
          "text": [
            "=-=-=-=-=-=-Fold: 1-=-=-=-=-=-=\n",
            "=-=-=-=-=-=-Fold: 2-=-=-=-=-=-=\n",
            "=-=-=-=-=-=-Fold: 3-=-=-=-=-=-=\n",
            "=-=-=-=-=-=-Fold: 4-=-=-=-=-=-=\n",
            "=-=-=-=-=-=-Fold: 5-=-=-=-=-=-=\n",
            "=-=-=-=-=-=-Fold: 6-=-=-=-=-=-=\n",
            "=-=-=-=-=-=-Fold: 7-=-=-=-=-=-=\n",
            "=-=-=-=-=-=-Fold: 8-=-=-=-=-=-=\n",
            "=-=-=-=-=-=-Fold: 9-=-=-=-=-=-=\n",
            "=-=-=-=-=-=-Fold: 10-=-=-=-=-=-=\n",
            "=-=-=-=-=-=-Fold: 11-=-=-=-=-=-=\n",
            "=-=-=-=-=-=-Fold: 12-=-=-=-=-=-=\n",
            "=-=-=-=-=-=-Fold: 13-=-=-=-=-=-=\n",
            "=-=-=-=-=-=-Fold: 14-=-=-=-=-=-=\n",
            "=-=-=-=-=-=-Fold: 15-=-=-=-=-=-=\n",
            "Média da precisão: 1.000 +/- 0.000\n",
            "Média da revocação: 1.000 +/- 0.000\n",
            "Média da acurácia: 1.000 +/- 0.000\n",
            "Média da f1: 1.000 +/- 0.000\n",
            "Média da kappa: 1.000 +/- 0.000\n",
            "Média da roc: 1.000 +/- 0.000\n"
          ]
        }
      ]
    },
    {
      "cell_type": "markdown",
      "source": [
        "**KNN**"
      ],
      "metadata": {
        "id": "odIpVbytKOls"
      }
    },
    {
      "cell_type": "code",
      "source": [
        "folds = StratifiedKFold(n_splits=15, shuffle=True, random_state=42)\n",
        "\n",
        "k_precisoes = list()\n",
        "k_revocacoes = list()\n",
        "k_acuracias = list()\n",
        "k_f1s = list()\n",
        "k_kaps = list()\n",
        "k_rocs = list()\n",
        "scaler = StandardScaler()\n",
        "\n",
        "# Transformando X e y em respectivamente, um dataframe e uma série do pandas.\n",
        "# Isto é feito para se ter acesso aos índices de cada instância.\n",
        "X = ATT2.drop(\"abuso\", axis=1)\n",
        "y = ATT2.abuso\n",
        "\n",
        "for k, (train_index, test_index) in enumerate(folds.split(X, y)):\n",
        "    print(\"=-\"*6 + f\"Fold: {k+1}\" + \"-=\"*6)\n",
        "\n",
        "    # Dividindo os dados em treino e teste para cada um dos folds\n",
        "    X_train, X_test = X.iloc[train_index], X.iloc[test_index]\n",
        "    y_train, y_test = y[train_index], y[test_index]\n",
        "    # train_index e test_index: São os índices das instâncias do conjunto\n",
        "    # de treino e teste, respectivamente, selecionados em cada um dos folds\n",
        "\n",
        "    # Escalonando os dados. Todas as colunas serão passadas para uma\n",
        "    # distribuição normal, garantindo que as características estejam\n",
        "    # em uma mesma escala numérica\n",
        "    X_train = scaler.fit_transform(X_train)\n",
        "    X_test = scaler.transform(X_test)\n",
        "\n",
        "    # instanciando e treinando o modelo\n",
        "    modelo=KNeighborsClassifier(n_neighbors=3)\n",
        "    modelo.fit(X_train, y_train)\n",
        "\n",
        "    # Obtendo as probabilidades das classes previstas\n",
        "    y_pred_proba = modelo.predict_proba(X_train)\n",
        "\n",
        "    # Obtendo as previsões do modelo\n",
        "    y_pred = modelo.predict(X_train)\n",
        "\n",
        "    # Calculando a precisão, revocação e acurácia para o fold em questão\n",
        "    precisao = precision_score(y_train, y_pred, average = \"weighted\")\n",
        "    revocacao = recall_score(y_train, y_pred, average = \"weighted\")\n",
        "    acuracia = accuracy_score(y_train, y_pred)\n",
        "    f1=f1_score(y_train, y_pred)\n",
        "    kappa=cohen_kappa_score(y_train, y_pred)\n",
        "    roc=roc_auc_score(y_train, y_pred)\n",
        "\n",
        "    # Armazenando as precisões, revocações e acurácias nas listas criadas\n",
        "    k_precisoes.append(precisao)\n",
        "    k_revocacoes.append(revocacao)\n",
        "    k_acuracias.append(acuracia)\n",
        "    k_f1s.append(f1)\n",
        "    k_kaps.append(kappa)\n",
        "    k_rocs.append(roc)\n",
        "\n",
        "    # Exibindo as métricas para cada um dos folds\n",
        "    print(f\"Precisão: {precisao:.3f}\")\n",
        "    print(f\"Revocação: {revocacao:.3f}\")\n",
        "    print(f\"Acurácia: {acuracia:.3f}\")\n",
        "    print(f\"F1: {f1:.3f}\")\n",
        "    print(f\"Kappa: {kappa:.3f}\")\n",
        "    print(f\"Roc: {roc:.3f}\")\n",
        "\n",
        "    # Transformando as listas precisões, revocações, acurácias em arrays,\n",
        "# para fazer operações matemáticas\n",
        "k_precisoes = np.array(k_precisoes)\n",
        "k_revocacoes = np.array(k_revocacoes)\n",
        "k_acuracias = np.array(k_acuracias)\n",
        "k_f1s = np.array(k_f1s)\n",
        "k_kaps = np.array(k_kaps)\n",
        "k_rocs = np.array(k_rocs)\n",
        "\n",
        "# Calculando a média de todas as precisões, revocações e acurácias\n",
        "media_precisao = np.mean(k_precisoes)\n",
        "media_revocacao = np.mean(k_revocacoes)\n",
        "media_acuracia = np.mean(k_acuracias)\n",
        "media_f1s = np.mean(k_f1s)\n",
        "media_kaps = np.mean(k_kaps)\n",
        "media_rocs = np.mean(k_rocs)\n",
        "\n",
        "# Calculando o desvio padrão de todas as precisões, revocações e acurácias\n",
        "std_precisao = np.std(k_precisoes)\n",
        "std_revocacao = np.std(k_revocacoes)\n",
        "std_acuracia = np.std(k_acuracias)\n",
        "std_f1s = np.std(k_f1s)\n",
        "std_kaps = np.std(k_kaps)\n",
        "std_rocs = np.std(k_rocs)\n",
        "\n",
        "# Exibindo a média das precisões e revocações\n",
        "print(f\"Média da precisão: {media_precisao:.3f} +/- {std_precisao:.3f}\")\n",
        "print(f\"Média da revocação: {media_revocacao:.3f} +/- {std_revocacao:.3f}\")\n",
        "print(f\"Média da acurácia: {media_acuracia:.3f} +/- {std_acuracia:.3f}\")\n",
        "print(f\"Média da f1: {media_f1s:.3f} +/- {std_f1s:.3f}\")\n",
        "print(f\"Média da kappa: {media_kaps:.3f} +/- {std_kaps:.3f}\")\n",
        "print(f\"Média da roc: {media_rocs:.3f} +/- {std_rocs:.3f}\")"
      ],
      "metadata": {
        "colab": {
          "base_uri": "https://localhost:8080/"
        },
        "outputId": "4df5cc30-78bc-44c5-87aa-e2ab1ab8f3de",
        "id": "yh5w2_d1KKPA"
      },
      "execution_count": 39,
      "outputs": [
        {
          "output_type": "stream",
          "name": "stdout",
          "text": [
            "=-=-=-=-=-=-Fold: 1-=-=-=-=-=-=\n",
            "Precisão: 0.848\n",
            "Revocação: 0.848\n",
            "Acurácia: 0.848\n",
            "F1: 0.854\n",
            "Kappa: 0.695\n",
            "Roc: 0.848\n",
            "=-=-=-=-=-=-Fold: 2-=-=-=-=-=-=\n",
            "Precisão: 0.851\n",
            "Revocação: 0.851\n",
            "Acurácia: 0.851\n",
            "F1: 0.857\n",
            "Kappa: 0.701\n",
            "Roc: 0.850\n",
            "=-=-=-=-=-=-Fold: 3-=-=-=-=-=-=\n",
            "Precisão: 0.849\n",
            "Revocação: 0.849\n",
            "Acurácia: 0.849\n",
            "F1: 0.855\n",
            "Kappa: 0.698\n",
            "Roc: 0.849\n",
            "=-=-=-=-=-=-Fold: 4-=-=-=-=-=-=\n",
            "Precisão: 0.852\n",
            "Revocação: 0.852\n",
            "Acurácia: 0.852\n",
            "F1: 0.859\n",
            "Kappa: 0.704\n",
            "Roc: 0.852\n",
            "=-=-=-=-=-=-Fold: 5-=-=-=-=-=-=\n",
            "Precisão: 0.850\n",
            "Revocação: 0.850\n",
            "Acurácia: 0.850\n",
            "F1: 0.856\n",
            "Kappa: 0.699\n",
            "Roc: 0.849\n",
            "=-=-=-=-=-=-Fold: 6-=-=-=-=-=-=\n",
            "Precisão: 0.849\n",
            "Revocação: 0.849\n",
            "Acurácia: 0.849\n",
            "F1: 0.856\n",
            "Kappa: 0.698\n",
            "Roc: 0.849\n",
            "=-=-=-=-=-=-Fold: 7-=-=-=-=-=-=\n",
            "Precisão: 0.849\n",
            "Revocação: 0.849\n",
            "Acurácia: 0.849\n",
            "F1: 0.855\n",
            "Kappa: 0.697\n",
            "Roc: 0.848\n",
            "=-=-=-=-=-=-Fold: 8-=-=-=-=-=-=\n",
            "Precisão: 0.850\n",
            "Revocação: 0.850\n",
            "Acurácia: 0.850\n",
            "F1: 0.856\n",
            "Kappa: 0.699\n",
            "Roc: 0.849\n",
            "=-=-=-=-=-=-Fold: 9-=-=-=-=-=-=\n",
            "Precisão: 0.853\n",
            "Revocação: 0.853\n",
            "Acurácia: 0.853\n",
            "F1: 0.858\n",
            "Kappa: 0.705\n",
            "Roc: 0.852\n",
            "=-=-=-=-=-=-Fold: 10-=-=-=-=-=-=\n",
            "Precisão: 0.853\n",
            "Revocação: 0.853\n",
            "Acurácia: 0.853\n",
            "F1: 0.859\n",
            "Kappa: 0.705\n",
            "Roc: 0.852\n",
            "=-=-=-=-=-=-Fold: 11-=-=-=-=-=-=\n",
            "Precisão: 0.847\n",
            "Revocação: 0.847\n",
            "Acurácia: 0.847\n",
            "F1: 0.853\n",
            "Kappa: 0.694\n",
            "Roc: 0.847\n",
            "=-=-=-=-=-=-Fold: 12-=-=-=-=-=-=\n",
            "Precisão: 0.851\n",
            "Revocação: 0.851\n",
            "Acurácia: 0.851\n",
            "F1: 0.857\n",
            "Kappa: 0.701\n",
            "Roc: 0.850\n",
            "=-=-=-=-=-=-Fold: 13-=-=-=-=-=-=\n",
            "Precisão: 0.852\n",
            "Revocação: 0.852\n",
            "Acurácia: 0.852\n",
            "F1: 0.858\n",
            "Kappa: 0.703\n",
            "Roc: 0.851\n",
            "=-=-=-=-=-=-Fold: 14-=-=-=-=-=-=\n",
            "Precisão: 0.849\n",
            "Revocação: 0.849\n",
            "Acurácia: 0.849\n",
            "F1: 0.855\n",
            "Kappa: 0.698\n",
            "Roc: 0.849\n",
            "=-=-=-=-=-=-Fold: 15-=-=-=-=-=-=\n",
            "Precisão: 0.853\n",
            "Revocação: 0.853\n",
            "Acurácia: 0.853\n",
            "F1: 0.859\n",
            "Kappa: 0.705\n",
            "Roc: 0.852\n",
            "Média da precisão: 0.850 +/- 0.002\n",
            "Média da revocação: 0.850 +/- 0.002\n",
            "Média da acurácia: 0.850 +/- 0.002\n",
            "Média da f1: 0.856 +/- 0.002\n",
            "Média da kappa: 0.700 +/- 0.003\n",
            "Média da roc: 0.850 +/- 0.002\n"
          ]
        }
      ]
    },
    {
      "cell_type": "markdown",
      "source": [
        "**MLP**"
      ],
      "metadata": {
        "id": "Jf0sjqelKVxM"
      }
    },
    {
      "cell_type": "code",
      "source": [
        "folds = StratifiedKFold(n_splits=15, shuffle=True, random_state=42)\n",
        "\n",
        "precisoes = list()\n",
        "revocacoes = list()\n",
        "acuracias = list()\n",
        "f1s = list()\n",
        "kaps = list()\n",
        "rocs = list()\n",
        "scaler = StandardScaler()\n",
        "\n",
        "# Transformando X e y em respectivamente, um dataframe e uma série do pandas.\n",
        "# Isto é feito para se ter acesso aos índices de cada instância.\n",
        "X = ATT2.drop(\"abuso\", axis=1)\n",
        "y = ATT2.abuso\n",
        "\n",
        "for k, (train_index, test_index) in enumerate(folds.split(X, y)):\n",
        "    print(\"=-\"*6 + f\"Fold: {k+1}\" + \"-=\"*6)\n",
        "\n",
        "    # Dividindo os dados em treino e teste para cada um dos folds\n",
        "    X_train, X_test = X.iloc[train_index], X.iloc[test_index]\n",
        "    y_train, y_test = y[train_index], y[test_index]\n",
        "    # train_index e test_index: São os índices das instâncias do conjunto\n",
        "    # de treino e teste, respectivamente, selecionados em cada um dos folds\n",
        "\n",
        "    # Escalonando os dados. Todas as colunas serão passadas para uma\n",
        "    # distribuição normal, garantindo que as características estejam\n",
        "    # em uma mesma escala numérica\n",
        "    X_train = scaler.fit_transform(X_train)\n",
        "    X_test = scaler.transform(X_test)\n",
        "\n",
        "    # instanciando e treinando o modelo\n",
        "    modelo =MLPClassifier()\n",
        "    modelo.fit(X_train, y_train)\n",
        "\n",
        "    # Obtendo as probabilidades das classes previstas\n",
        "    y_pred_proba = modelo.predict_proba(X_train)\n",
        "\n",
        "    # Obtendo as previsões do modelo\n",
        "    y_pred = modelo.predict(X_train)\n",
        "\n",
        "    # Calculando a precisão, revocação e acurácia para o fold em questão\n",
        "    precisao = precision_score(y_train, y_pred, average = \"weighted\")\n",
        "    revocacao = recall_score(y_train, y_pred, average = \"weighted\")\n",
        "    acuracia = accuracy_score(y_train, y_pred)\n",
        "    f1=f1_score(y_train, y_pred)\n",
        "    kappa=cohen_kappa_score(y_train, y_pred)\n",
        "    roc=roc_auc_score(y_train, y_pred)\n",
        "\n",
        "    # Armazenando as precisões, revocações e acurácias nas listas criadas\n",
        "    precisoes.append(precisao)\n",
        "    revocacoes.append(revocacao)\n",
        "    acuracias.append(acuracia)\n",
        "    f1s.append(f1)\n",
        "    kaps.append(kappa)\n",
        "    rocs.append(roc)\n",
        "\n",
        "    # Exibindo as métricas para cada um dos folds\n",
        "    #print(f\"Precisão: {precisao:.3f}\")\n",
        "    #print(f\"Revocação: {revocacao:.3f}\")\n",
        "    #print(f\"Acurácia: {acuracia:.3f}\")\n",
        "    #print(f\"F1: {f1:.3f}\")\n",
        "    #print(f\"Kappa: {kappa:.3f}\")\n",
        "    #print(f\"Roc: {roc:.3f}\")\n",
        "\n",
        "    # Transformando as listas precisões, revocações, acurácias em arrays,\n",
        "# para fazer operações matemáticas\n",
        "precisoes = np.array(precisoes)\n",
        "revocacoes = np.array(revocacoes)\n",
        "acuracias = np.array(acuracias)\n",
        "f1s = np.array(f1s)\n",
        "kaps = np.array(kaps)\n",
        "rocs = np.array(rocs)\n",
        "\n",
        "# Calculando a média de todas as precisões, revocações e acurácias\n",
        "media_precisao = np.mean(precisoes)\n",
        "media_revocacao = np.mean(revocacoes)\n",
        "media_acuracia = np.mean(acuracias)\n",
        "media_f1s = np.mean(f1s)\n",
        "media_kaps = np.mean(kaps)\n",
        "media_rocs = np.mean(rocs)\n",
        "\n",
        "# Calculando o desvio padrão de todas as precisões, revocações e acurácias\n",
        "std_precisao = np.std(precisoes)\n",
        "std_revocacao = np.std(revocacoes)\n",
        "std_acuracia = np.std(acuracias)\n",
        "std_f1s = np.std(f1s)\n",
        "std_kaps = np.std(kaps)\n",
        "std_rocs = np.std(rocs)\n",
        "\n",
        "# Exibindo a média das precisões e revocações\n",
        "print(f\"Média da precisão: {media_precisao:.3f} +/- {std_precisao:.3f}\")\n",
        "print(f\"Média da revocação: {media_revocacao:.3f} +/- {std_revocacao:.3f}\")\n",
        "print(f\"Média da acurácia: {media_acuracia:.3f} +/- {std_acuracia:.3f}\")\n",
        "print(f\"Média da f1: {media_f1s:.3f} +/- {std_f1s:.3f}\")\n",
        "print(f\"Média da kappa: {media_kaps:.3f} +/- {std_kaps:.3f}\")\n",
        "print(f\"Média da roc: {media_rocs:.3f} +/- {std_rocs:.3f}\")"
      ],
      "metadata": {
        "colab": {
          "base_uri": "https://localhost:8080/"
        },
        "outputId": "51ee254f-8123-42af-f46d-1782b3209f1e",
        "id": "BqON3s4WKLtS"
      },
      "execution_count": 40,
      "outputs": [
        {
          "output_type": "stream",
          "name": "stdout",
          "text": [
            "=-=-=-=-=-=-Fold: 1-=-=-=-=-=-=\n"
          ]
        },
        {
          "output_type": "stream",
          "name": "stderr",
          "text": [
            "/usr/local/lib/python3.10/dist-packages/sklearn/neural_network/_multilayer_perceptron.py:686: ConvergenceWarning: Stochastic Optimizer: Maximum iterations (200) reached and the optimization hasn't converged yet.\n",
            "  warnings.warn(\n"
          ]
        },
        {
          "output_type": "stream",
          "name": "stdout",
          "text": [
            "=-=-=-=-=-=-Fold: 2-=-=-=-=-=-=\n"
          ]
        },
        {
          "output_type": "stream",
          "name": "stderr",
          "text": [
            "/usr/local/lib/python3.10/dist-packages/sklearn/neural_network/_multilayer_perceptron.py:686: ConvergenceWarning: Stochastic Optimizer: Maximum iterations (200) reached and the optimization hasn't converged yet.\n",
            "  warnings.warn(\n"
          ]
        },
        {
          "output_type": "stream",
          "name": "stdout",
          "text": [
            "=-=-=-=-=-=-Fold: 3-=-=-=-=-=-=\n"
          ]
        },
        {
          "output_type": "stream",
          "name": "stderr",
          "text": [
            "/usr/local/lib/python3.10/dist-packages/sklearn/neural_network/_multilayer_perceptron.py:686: ConvergenceWarning: Stochastic Optimizer: Maximum iterations (200) reached and the optimization hasn't converged yet.\n",
            "  warnings.warn(\n"
          ]
        },
        {
          "output_type": "stream",
          "name": "stdout",
          "text": [
            "=-=-=-=-=-=-Fold: 4-=-=-=-=-=-=\n"
          ]
        },
        {
          "output_type": "stream",
          "name": "stderr",
          "text": [
            "/usr/local/lib/python3.10/dist-packages/sklearn/neural_network/_multilayer_perceptron.py:686: ConvergenceWarning: Stochastic Optimizer: Maximum iterations (200) reached and the optimization hasn't converged yet.\n",
            "  warnings.warn(\n"
          ]
        },
        {
          "output_type": "stream",
          "name": "stdout",
          "text": [
            "=-=-=-=-=-=-Fold: 5-=-=-=-=-=-=\n"
          ]
        },
        {
          "output_type": "stream",
          "name": "stderr",
          "text": [
            "/usr/local/lib/python3.10/dist-packages/sklearn/neural_network/_multilayer_perceptron.py:686: ConvergenceWarning: Stochastic Optimizer: Maximum iterations (200) reached and the optimization hasn't converged yet.\n",
            "  warnings.warn(\n"
          ]
        },
        {
          "output_type": "stream",
          "name": "stdout",
          "text": [
            "=-=-=-=-=-=-Fold: 6-=-=-=-=-=-=\n"
          ]
        },
        {
          "output_type": "stream",
          "name": "stderr",
          "text": [
            "/usr/local/lib/python3.10/dist-packages/sklearn/neural_network/_multilayer_perceptron.py:686: ConvergenceWarning: Stochastic Optimizer: Maximum iterations (200) reached and the optimization hasn't converged yet.\n",
            "  warnings.warn(\n"
          ]
        },
        {
          "output_type": "stream",
          "name": "stdout",
          "text": [
            "=-=-=-=-=-=-Fold: 7-=-=-=-=-=-=\n"
          ]
        },
        {
          "output_type": "stream",
          "name": "stderr",
          "text": [
            "/usr/local/lib/python3.10/dist-packages/sklearn/neural_network/_multilayer_perceptron.py:686: ConvergenceWarning: Stochastic Optimizer: Maximum iterations (200) reached and the optimization hasn't converged yet.\n",
            "  warnings.warn(\n"
          ]
        },
        {
          "output_type": "stream",
          "name": "stdout",
          "text": [
            "=-=-=-=-=-=-Fold: 8-=-=-=-=-=-=\n"
          ]
        },
        {
          "output_type": "stream",
          "name": "stderr",
          "text": [
            "/usr/local/lib/python3.10/dist-packages/sklearn/neural_network/_multilayer_perceptron.py:686: ConvergenceWarning: Stochastic Optimizer: Maximum iterations (200) reached and the optimization hasn't converged yet.\n",
            "  warnings.warn(\n"
          ]
        },
        {
          "output_type": "stream",
          "name": "stdout",
          "text": [
            "=-=-=-=-=-=-Fold: 9-=-=-=-=-=-=\n"
          ]
        },
        {
          "output_type": "stream",
          "name": "stderr",
          "text": [
            "/usr/local/lib/python3.10/dist-packages/sklearn/neural_network/_multilayer_perceptron.py:686: ConvergenceWarning: Stochastic Optimizer: Maximum iterations (200) reached and the optimization hasn't converged yet.\n",
            "  warnings.warn(\n"
          ]
        },
        {
          "output_type": "stream",
          "name": "stdout",
          "text": [
            "=-=-=-=-=-=-Fold: 10-=-=-=-=-=-=\n"
          ]
        },
        {
          "output_type": "stream",
          "name": "stderr",
          "text": [
            "/usr/local/lib/python3.10/dist-packages/sklearn/neural_network/_multilayer_perceptron.py:686: ConvergenceWarning: Stochastic Optimizer: Maximum iterations (200) reached and the optimization hasn't converged yet.\n",
            "  warnings.warn(\n"
          ]
        },
        {
          "output_type": "stream",
          "name": "stdout",
          "text": [
            "=-=-=-=-=-=-Fold: 11-=-=-=-=-=-=\n"
          ]
        },
        {
          "output_type": "stream",
          "name": "stderr",
          "text": [
            "/usr/local/lib/python3.10/dist-packages/sklearn/neural_network/_multilayer_perceptron.py:686: ConvergenceWarning: Stochastic Optimizer: Maximum iterations (200) reached and the optimization hasn't converged yet.\n",
            "  warnings.warn(\n"
          ]
        },
        {
          "output_type": "stream",
          "name": "stdout",
          "text": [
            "=-=-=-=-=-=-Fold: 12-=-=-=-=-=-=\n"
          ]
        },
        {
          "output_type": "stream",
          "name": "stderr",
          "text": [
            "/usr/local/lib/python3.10/dist-packages/sklearn/neural_network/_multilayer_perceptron.py:686: ConvergenceWarning: Stochastic Optimizer: Maximum iterations (200) reached and the optimization hasn't converged yet.\n",
            "  warnings.warn(\n"
          ]
        },
        {
          "output_type": "stream",
          "name": "stdout",
          "text": [
            "=-=-=-=-=-=-Fold: 13-=-=-=-=-=-=\n"
          ]
        },
        {
          "output_type": "stream",
          "name": "stderr",
          "text": [
            "/usr/local/lib/python3.10/dist-packages/sklearn/neural_network/_multilayer_perceptron.py:686: ConvergenceWarning: Stochastic Optimizer: Maximum iterations (200) reached and the optimization hasn't converged yet.\n",
            "  warnings.warn(\n"
          ]
        },
        {
          "output_type": "stream",
          "name": "stdout",
          "text": [
            "=-=-=-=-=-=-Fold: 14-=-=-=-=-=-=\n"
          ]
        },
        {
          "output_type": "stream",
          "name": "stderr",
          "text": [
            "/usr/local/lib/python3.10/dist-packages/sklearn/neural_network/_multilayer_perceptron.py:686: ConvergenceWarning: Stochastic Optimizer: Maximum iterations (200) reached and the optimization hasn't converged yet.\n",
            "  warnings.warn(\n"
          ]
        },
        {
          "output_type": "stream",
          "name": "stdout",
          "text": [
            "=-=-=-=-=-=-Fold: 15-=-=-=-=-=-=\n",
            "Média da precisão: 0.760 +/- 0.003\n",
            "Média da revocação: 0.760 +/- 0.003\n",
            "Média da acurácia: 0.760 +/- 0.003\n",
            "Média da f1: 0.769 +/- 0.005\n",
            "Média da kappa: 0.519 +/- 0.006\n",
            "Média da roc: 0.759 +/- 0.003\n"
          ]
        },
        {
          "output_type": "stream",
          "name": "stderr",
          "text": [
            "/usr/local/lib/python3.10/dist-packages/sklearn/neural_network/_multilayer_perceptron.py:686: ConvergenceWarning: Stochastic Optimizer: Maximum iterations (200) reached and the optimization hasn't converged yet.\n",
            "  warnings.warn(\n"
          ]
        }
      ]
    },
    {
      "cell_type": "markdown",
      "source": [
        "**Comparação**"
      ],
      "metadata": {
        "id": "x4OgeMG3J7Dx"
      }
    },
    {
      "cell_type": "code",
      "source": [
        "d_precisoes = np.array(d_precisoes)\n",
        "d_revocacoes = np.array(d_revocacoes)\n",
        "d_acuracias = np.array(d_acuracias)\n",
        "d_f1s = np.array(d_f1s)\n",
        "d_kaps = np.array(d_kaps)\n",
        "d_rocs = np.array(d_rocs)\n",
        "\n",
        "k_precisoes = np.array(k_precisoes)\n",
        "k_revocacoes = np.array(k_revocacoes)\n",
        "k_acuracias = np.array(k_acuracias)\n",
        "k_f1s = np.array(k_f1s)\n",
        "k_kaps = np.array(k_kaps)\n",
        "k_rocs = np.array(k_rocs)"
      ],
      "metadata": {
        "id": "t3iTytu9ABwN"
      },
      "execution_count": null,
      "outputs": []
    },
    {
      "cell_type": "code",
      "source": [
        "cartTe = list()\n",
        "cartTr = list()\n",
        "\n",
        "knnTe = list()\n",
        "knnTr = list()\n",
        "\n",
        "mlpTe = list()\n",
        "mlpTr = list()\n"
      ],
      "metadata": {
        "id": "x_6bn8L9BrFf"
      },
      "execution_count": 25,
      "outputs": []
    },
    {
      "cell_type": "code",
      "source": [
        "from scipy import stats\n",
        "\n",
        "stat, p_value = stats.wilcoxon(k_rocs,rocs)\n",
        "\n",
        "print('Statistics=%.0f, p=%.13f' % (stat, p_value))\n",
        "# Level of significance\n",
        "alpha = 0.05\n",
        "# conclusion\n",
        "if p_value < alpha:\n",
        "    print('Reject Null Hypothesis (Significant difference between two samples)')\n",
        "else:\n",
        "    print('Do not Reject Null Hypothesis (No significant difference between two samples)')"
      ],
      "metadata": {
        "colab": {
          "base_uri": "https://localhost:8080/"
        },
        "id": "9OtyIZkDJHMk",
        "outputId": "77f567f8-0707-4a26-8e1d-f4134574a849"
      },
      "execution_count": 53,
      "outputs": [
        {
          "output_type": "stream",
          "name": "stdout",
          "text": [
            "Statistics=0, p=0.0000610351562\n",
            "Reject Null Hypothesis (Significant difference between two samples)\n"
          ]
        }
      ]
    },
    {
      "cell_type": "markdown",
      "source": [
        "**Test**"
      ],
      "metadata": {
        "id": "DK8l6vDGIgEa"
      }
    },
    {
      "cell_type": "markdown",
      "source": [
        "**CART**"
      ],
      "metadata": {
        "id": "Im8sqvKmR8hd"
      }
    },
    {
      "cell_type": "code",
      "source": [
        "folds = StratifiedKFold(n_splits=15, shuffle=True, random_state=42)\n",
        "\n",
        "d_precisoes = list()\n",
        "d_revocacoes = list()\n",
        "d_acuracias = list()\n",
        "d_f1s = list()\n",
        "d_kaps = list()\n",
        "d_rocs = list()\n",
        "\n",
        "scaler = StandardScaler()\n",
        "\n",
        "# Transformando X e y em respectivamente, um dataframe e uma série do pandas.\n",
        "# Isto é feito para se ter acesso aos índices de cada instância.\n",
        "X = ATT2.drop(\"abuso\", axis=1)\n",
        "y = ATT2.abuso\n",
        "\n",
        "for k, (train_index, test_index) in enumerate(folds.split(X, y)):\n",
        "    print(\"=-\"*6 + f\"Fold: {k+1}\" + \"-=\"*6)\n",
        "\n",
        "    # Dividindo os dados em treino e teste para cada um dos folds\n",
        "    X_train, X_test = X.iloc[train_index], X.iloc[test_index]\n",
        "    y_train, y_test = y[train_index], y[test_index]\n",
        "    # train_index e test_index: São os índices das instâncias do conjunto\n",
        "    # de treino e teste, respectivamente, selecionados em cada um dos folds\n",
        "\n",
        "    # Escalonando os dados. Todas as colunas serão passadas para uma\n",
        "    # distribuição normal, garantindo que as características estejam\n",
        "    # em uma mesma escala numérica\n",
        "    X_train = scaler.fit_transform(X_train)\n",
        "    X_test = scaler.transform(X_test)\n",
        "\n",
        "    # instanciando e treinando o modelo\n",
        "    modelo =DecisionTreeClassifier()\n",
        "    modelo.fit(X_train, y_train)\n",
        "\n",
        "    # Obtendo as probabilidades das classes previstas\n",
        "    y_pred_proba = modelo.predict_proba(X_test)\n",
        "\n",
        "    # Obtendo as previsões do modelo\n",
        "    y_pred = modelo.predict(X_test)\n",
        "\n",
        "    # Calculando a precisão, revocação e acurácia para o fold em questão\n",
        "    precisao = precision_score(y_test, y_pred, average = \"weighted\")\n",
        "    revocacao = recall_score(y_test, y_pred, average = \"weighted\")\n",
        "    acuracia = accuracy_score(y_test, y_pred)\n",
        "    f1=f1_score(y_test, y_pred)\n",
        "    kappa=cohen_kappa_score(y_test, y_pred)\n",
        "    roc=roc_auc_score(y_test, y_pred)\n",
        "\n",
        "    # Armazenando as precisões, revocações e acurácias nas listas criadas\n",
        "    d_precisoes.append(precisao)\n",
        "    d_revocacoes.append(revocacao)\n",
        "    d_acuracias.append(acuracia)\n",
        "    d_f1s.append(f1)\n",
        "    d_kaps.append(kappa)\n",
        "    d_rocs.append(roc)\n",
        "\n",
        "    # Exibindo as métricas para cada um dos folds\n",
        "    #print(f\"Precisão: {precisao:.3f}\")\n",
        "    #print(f\"Revocação: {revocacao:.3f}\")\n",
        "    #print(f\"Acurácia: {acuracia:.3f}\")\n",
        "    #print(f\"F1: {f1:.3f}\")\n",
        "    #print(f\"Kappa: {kappa:.3f}\")\n",
        "    #print(f\"Roc: {roc:.3f}\")\n",
        "\n",
        "    # Transformando as listas precisões, revocações, acurácias em arrays,\n",
        "# para fazer operações matemáticas\n",
        "d_precisoes = np.array(d_precisoes)\n",
        "d_revocacoes = np.array(d_revocacoes)\n",
        "d_acuracias = np.array(d_acuracias)\n",
        "d_f1s = np.array(d_f1s)\n",
        "d_kaps = np.array(d_kaps)\n",
        "d_rocs = np.array(d_rocs)\n",
        "\n",
        "# Calculando a média de todas as precisões, revocações e acurácias\n",
        "d_media_precisao = np.mean(d_precisoes)\n",
        "d_media_revocacao = np.mean(d_revocacoes)\n",
        "d_media_acuracia = np.mean(d_acuracias)\n",
        "d_media_f1s = np.mean(d_f1s)\n",
        "d_media_kaps = np.mean(d_kaps)\n",
        "d_media_rocs = np.mean(d_rocs)\n",
        "\n",
        "# Calculando o desvio padrão de todas as precisões, revocações e acurácias\n",
        "std_precisao = np.std(d_precisoes)\n",
        "std_revocacao = np.std(d_revocacoes)\n",
        "std_acuracia = np.std(d_acuracias)\n",
        "std_f1s = np.std(d_f1s)\n",
        "std_kaps = np.std(d_kaps)\n",
        "std_rocs = np.std(d_rocs)\n",
        "\n",
        "# Exibindo a média das precisões e revocações\n",
        "print(f\"Média da precisão: {d_media_precisao:.3f} +/- {std_precisao:.3f}\")\n",
        "print(f\"Média da revocação: {d_media_revocacao:.3f} +/- {std_revocacao:.3f}\")\n",
        "print(f\"Média da acurácia: {d_media_acuracia:.3f} +/- {std_acuracia:.3f}\")\n",
        "print(f\"Média da f1: {d_media_f1s:.3f} +/- {std_f1s:.3f}\")\n",
        "print(f\"Média da kappa: {d_media_kaps:.3f} +/- {std_kaps:.3f}\")\n",
        "print(f\"Média da roc: {d_media_rocs:.3f} +/- {std_rocs:.3f}\")"
      ],
      "metadata": {
        "colab": {
          "base_uri": "https://localhost:8080/"
        },
        "outputId": "150cd7d2-33e4-4634-c5d5-e5d8ce2a5242",
        "id": "y9Wa5jddQvHP"
      },
      "execution_count": 55,
      "outputs": [
        {
          "output_type": "stream",
          "name": "stdout",
          "text": [
            "=-=-=-=-=-=-Fold: 1-=-=-=-=-=-=\n",
            "=-=-=-=-=-=-Fold: 2-=-=-=-=-=-=\n",
            "=-=-=-=-=-=-Fold: 3-=-=-=-=-=-=\n",
            "=-=-=-=-=-=-Fold: 4-=-=-=-=-=-=\n",
            "=-=-=-=-=-=-Fold: 5-=-=-=-=-=-=\n",
            "=-=-=-=-=-=-Fold: 6-=-=-=-=-=-=\n",
            "=-=-=-=-=-=-Fold: 7-=-=-=-=-=-=\n",
            "=-=-=-=-=-=-Fold: 8-=-=-=-=-=-=\n",
            "=-=-=-=-=-=-Fold: 9-=-=-=-=-=-=\n",
            "=-=-=-=-=-=-Fold: 10-=-=-=-=-=-=\n",
            "=-=-=-=-=-=-Fold: 11-=-=-=-=-=-=\n",
            "=-=-=-=-=-=-Fold: 12-=-=-=-=-=-=\n",
            "=-=-=-=-=-=-Fold: 13-=-=-=-=-=-=\n",
            "=-=-=-=-=-=-Fold: 14-=-=-=-=-=-=\n",
            "=-=-=-=-=-=-Fold: 15-=-=-=-=-=-=\n",
            "Média da precisão: 0.896 +/- 0.007\n",
            "Média da revocação: 0.895 +/- 0.007\n",
            "Média da acurácia: 0.895 +/- 0.007\n",
            "Média da f1: 0.899 +/- 0.007\n",
            "Média da kappa: 0.791 +/- 0.014\n",
            "Média da roc: 0.895 +/- 0.007\n"
          ]
        }
      ]
    },
    {
      "cell_type": "markdown",
      "source": [
        "**KNN**"
      ],
      "metadata": {
        "id": "piskhXb2Rrsg"
      }
    },
    {
      "cell_type": "code",
      "source": [
        "folds = StratifiedKFold(n_splits=15, shuffle=True, random_state=42)\n",
        "\n",
        "k_precisoes = list()\n",
        "k_revocacoes = list()\n",
        "k_acuracias = list()\n",
        "k_f1s = list()\n",
        "k_kaps = list()\n",
        "k_rocs = list()\n",
        "scaler = StandardScaler()\n",
        "\n",
        "# Transformando X e y em respectivamente, um dataframe e uma série do pandas.\n",
        "# Isto é feito para se ter acesso aos índices de cada instância.\n",
        "X = ATT2.drop(\"abuso\", axis=1)\n",
        "y = ATT2.abuso\n",
        "\n",
        "for k, (train_index, test_index) in enumerate(folds.split(X, y)):\n",
        "    print(\"=-\"*6 + f\"Fold: {k+1}\" + \"-=\"*6)\n",
        "\n",
        "    # Dividindo os dados em treino e teste para cada um dos folds\n",
        "    X_train, X_test = X.iloc[train_index], X.iloc[test_index]\n",
        "    y_train, y_test = y[train_index], y[test_index]\n",
        "    # train_index e test_index: São os índices das instâncias do conjunto\n",
        "    # de treino e teste, respectivamente, selecionados em cada um dos folds\n",
        "\n",
        "    # Escalonando os dados. Todas as colunas serão passadas para uma\n",
        "    # distribuição normal, garantindo que as características estejam\n",
        "    # em uma mesma escala numérica\n",
        "    X_train = scaler.fit_transform(X_train)\n",
        "    X_test = scaler.transform(X_test)\n",
        "\n",
        "    # instanciando e treinando o modelo\n",
        "    modelo=KNeighborsClassifier(n_neighbors=3)\n",
        "    modelo.fit(X_train, y_train)\n",
        "\n",
        "    # Obtendo as probabilidades das classes previstas\n",
        "    y_pred_proba = modelo.predict_proba(X_test)\n",
        "\n",
        "    # Obtendo as previsões do modelo\n",
        "    y_pred = modelo.predict(X_test)\n",
        "\n",
        "    # Calculando a precisão, revocação e acurácia para o fold em questão\n",
        "    precisao = precision_score(y_test, y_pred, average = \"weighted\")\n",
        "    revocacao = recall_score(y_test, y_pred, average = \"weighted\")\n",
        "    acuracia = accuracy_score(y_test, y_pred)\n",
        "    f1=f1_score(y_test, y_pred)\n",
        "    kappa=cohen_kappa_score(y_test, y_pred)\n",
        "    roc=roc_auc_score(y_test, y_pred)\n",
        "\n",
        "    # Armazenando as precisões, revocações e acurácias nas listas criadas\n",
        "    k_precisoes.append(precisao)\n",
        "    k_revocacoes.append(revocacao)\n",
        "    k_acuracias.append(acuracia)\n",
        "    k_f1s.append(f1)\n",
        "    k_kaps.append(kappa)\n",
        "    k_rocs.append(roc)\n",
        "\n",
        "    # Exibindo as métricas para cada um dos folds\n",
        "    print(f\"Precisão: {precisao:.3f}\")\n",
        "    print(f\"Revocação: {revocacao:.3f}\")\n",
        "    print(f\"Acurácia: {acuracia:.3f}\")\n",
        "    print(f\"F1: {f1:.3f}\")\n",
        "    print(f\"Kappa: {kappa:.3f}\")\n",
        "    print(f\"Roc: {roc:.3f}\")\n",
        "\n",
        "    # Transformando as listas precisões, revocações, acurácias em arrays,\n",
        "# para fazer operações matemáticas\n",
        "precisoes = np.array(k_precisoes)\n",
        "revocacoes = np.array(k_revocacoes)\n",
        "acuracias = np.array(k_acuracias)\n",
        "f1s = np.array(k_f1s)\n",
        "kaps = np.array(k_kaps)\n",
        "rocs = np.array(k_rocs)\n",
        "\n",
        "# Calculando a média de todas as precisões, revocações e acurácias\n",
        "media_precisao = np.mean(precisoes)\n",
        "media_revocacao = np.mean(revocacoes)\n",
        "media_acuracia = np.mean(acuracias)\n",
        "media_f1s = np.mean(f1s)\n",
        "media_kaps = np.mean(kaps)\n",
        "media_rocs = np.mean(rocs)\n",
        "\n",
        "# Calculando o desvio padrão de todas as precisões, revocações e acurácias\n",
        "std_precisao = np.std(precisoes)\n",
        "std_revocacao = np.std(revocacoes)\n",
        "std_acuracia = np.std(acuracias)\n",
        "std_f1s = np.std(f1s)\n",
        "std_kaps = np.std(kaps)\n",
        "std_rocs = np.std(rocs)\n",
        "\n",
        "# Exibindo a média das precisões e revocações\n",
        "print(f\"Média da precisão: {media_precisao:.3f} +/- {std_precisao:.3f}\")\n",
        "print(f\"Média da revocação: {media_revocacao:.3f} +/- {std_revocacao:.3f}\")\n",
        "print(f\"Média da acurácia: {media_acuracia:.3f} +/- {std_acuracia:.3f}\")\n",
        "print(f\"Média da f1: {media_f1s:.3f} +/- {std_f1s:.3f}\")\n",
        "print(f\"Média da kappa: {media_kaps:.3f} +/- {std_kaps:.3f}\")\n",
        "print(f\"Média da roc: {media_rocs:.3f} +/- {std_rocs:.3f}\")"
      ],
      "metadata": {
        "colab": {
          "base_uri": "https://localhost:8080/"
        },
        "outputId": "3576f446-7c31-4522-b236-d1aacf68ea9d",
        "id": "o5f5DWo2RlIY"
      },
      "execution_count": 56,
      "outputs": [
        {
          "output_type": "stream",
          "name": "stdout",
          "text": [
            "=-=-=-=-=-=-Fold: 1-=-=-=-=-=-=\n",
            "Precisão: 0.721\n",
            "Revocação: 0.721\n",
            "Acurácia: 0.721\n",
            "F1: 0.733\n",
            "Kappa: 0.441\n",
            "Roc: 0.720\n",
            "=-=-=-=-=-=-Fold: 2-=-=-=-=-=-=\n",
            "Precisão: 0.702\n",
            "Revocação: 0.702\n",
            "Acurácia: 0.702\n",
            "F1: 0.711\n",
            "Kappa: 0.404\n",
            "Roc: 0.702\n",
            "=-=-=-=-=-=-Fold: 3-=-=-=-=-=-=\n",
            "Precisão: 0.729\n",
            "Revocação: 0.729\n",
            "Acurácia: 0.729\n",
            "F1: 0.742\n",
            "Kappa: 0.456\n",
            "Roc: 0.728\n",
            "=-=-=-=-=-=-Fold: 4-=-=-=-=-=-=\n",
            "Precisão: 0.688\n",
            "Revocação: 0.688\n",
            "Acurácia: 0.688\n",
            "F1: 0.700\n",
            "Kappa: 0.375\n",
            "Roc: 0.687\n",
            "=-=-=-=-=-=-Fold: 5-=-=-=-=-=-=\n",
            "Precisão: 0.718\n",
            "Revocação: 0.718\n",
            "Acurácia: 0.718\n",
            "F1: 0.728\n",
            "Kappa: 0.436\n",
            "Roc: 0.718\n",
            "=-=-=-=-=-=-Fold: 6-=-=-=-=-=-=\n",
            "Precisão: 0.710\n",
            "Revocação: 0.710\n",
            "Acurácia: 0.710\n",
            "F1: 0.729\n",
            "Kappa: 0.418\n",
            "Roc: 0.708\n",
            "=-=-=-=-=-=-Fold: 7-=-=-=-=-=-=\n",
            "Precisão: 0.703\n",
            "Revocação: 0.703\n",
            "Acurácia: 0.703\n",
            "F1: 0.717\n",
            "Kappa: 0.405\n",
            "Roc: 0.702\n",
            "=-=-=-=-=-=-Fold: 8-=-=-=-=-=-=\n",
            "Precisão: 0.705\n",
            "Revocação: 0.705\n",
            "Acurácia: 0.705\n",
            "F1: 0.722\n",
            "Kappa: 0.407\n",
            "Roc: 0.703\n",
            "=-=-=-=-=-=-Fold: 9-=-=-=-=-=-=\n",
            "Precisão: 0.698\n",
            "Revocação: 0.698\n",
            "Acurácia: 0.698\n",
            "F1: 0.714\n",
            "Kappa: 0.394\n",
            "Roc: 0.697\n",
            "=-=-=-=-=-=-Fold: 10-=-=-=-=-=-=\n",
            "Precisão: 0.706\n",
            "Revocação: 0.706\n",
            "Acurácia: 0.706\n",
            "F1: 0.720\n",
            "Kappa: 0.411\n",
            "Roc: 0.705\n",
            "=-=-=-=-=-=-Fold: 11-=-=-=-=-=-=\n",
            "Precisão: 0.721\n",
            "Revocação: 0.721\n",
            "Acurácia: 0.721\n",
            "F1: 0.724\n",
            "Kappa: 0.441\n",
            "Roc: 0.721\n",
            "=-=-=-=-=-=-Fold: 12-=-=-=-=-=-=\n",
            "Precisão: 0.681\n",
            "Revocação: 0.681\n",
            "Acurácia: 0.681\n",
            "F1: 0.692\n",
            "Kappa: 0.361\n",
            "Roc: 0.680\n",
            "=-=-=-=-=-=-Fold: 13-=-=-=-=-=-=\n",
            "Precisão: 0.686\n",
            "Revocação: 0.686\n",
            "Acurácia: 0.686\n",
            "F1: 0.697\n",
            "Kappa: 0.371\n",
            "Roc: 0.686\n",
            "=-=-=-=-=-=-Fold: 14-=-=-=-=-=-=\n",
            "Precisão: 0.700\n",
            "Revocação: 0.699\n",
            "Acurácia: 0.699\n",
            "F1: 0.707\n",
            "Kappa: 0.398\n",
            "Roc: 0.699\n",
            "=-=-=-=-=-=-Fold: 15-=-=-=-=-=-=\n",
            "Precisão: 0.694\n",
            "Revocação: 0.694\n",
            "Acurácia: 0.694\n",
            "F1: 0.709\n",
            "Kappa: 0.387\n",
            "Roc: 0.693\n",
            "Média da precisão: 0.704 +/- 0.013\n",
            "Média da revocação: 0.704 +/- 0.013\n",
            "Média da acurácia: 0.704 +/- 0.013\n",
            "Média da f1: 0.716 +/- 0.013\n",
            "Média da kappa: 0.407 +/- 0.027\n",
            "Média da roc: 0.703 +/- 0.013\n"
          ]
        }
      ]
    },
    {
      "cell_type": "code",
      "source": [
        "folds = StratifiedKFold(n_splits=15, shuffle=True, random_state=42)\n",
        "\n",
        "precisoes = list()\n",
        "revocacoes = list()\n",
        "acuracias = list()\n",
        "f1s = list()\n",
        "kaps = list()\n",
        "rocs = list()\n",
        "scaler = StandardScaler()\n",
        "\n",
        "# Transformando X e y em respectivamente, um dataframe e uma série do pandas.\n",
        "# Isto é feito para se ter acesso aos índices de cada instância.\n",
        "X = ATT2.drop(\"abuso\", axis=1)\n",
        "y = ATT2.abuso\n",
        "\n",
        "for k, (train_index, test_index) in enumerate(folds.split(X, y)):\n",
        "    print(\"=-\"*6 + f\"Fold: {k+1}\" + \"-=\"*6)\n",
        "\n",
        "    # Dividindo os dados em treino e teste para cada um dos folds\n",
        "    X_train, X_test = X.iloc[train_index], X.iloc[test_index]\n",
        "    y_train, y_test = y[train_index], y[test_index]\n",
        "    # train_index e test_index: São os índices das instâncias do conjunto\n",
        "    # de treino e teste, respectivamente, selecionados em cada um dos folds\n",
        "\n",
        "    # Escalonando os dados. Todas as colunas serão passadas para uma\n",
        "    # distribuição normal, garantindo que as características estejam\n",
        "    # em uma mesma escala numérica\n",
        "    X_train = scaler.fit_transform(X_train)\n",
        "    X_test = scaler.transform(X_test)\n",
        "\n",
        "    # instanciando e treinando o modelo\n",
        "    modelo =MLPClassifier()\n",
        "    modelo.fit(X_train, y_train)\n",
        "\n",
        "    # Obtendo as probabilidades das classes previstas\n",
        "    y_pred_proba = modelo.predict_proba(X_test)\n",
        "\n",
        "    # Obtendo as previsões do modelo\n",
        "    y_pred = modelo.predict(X_test)\n",
        "\n",
        "    # Calculando a precisão, revocação e acurácia para o fold em questão\n",
        "    precisao = precision_score(y_test, y_pred, average = \"weighted\")\n",
        "    revocacao = recall_score(y_test, y_pred, average = \"weighted\")\n",
        "    acuracia = accuracy_score(y_test, y_pred)\n",
        "    f1=f1_score(y_test, y_pred)\n",
        "    kappa=cohen_kappa_score(y_test, y_pred)\n",
        "    roc=roc_auc_score(y_test, y_pred)\n",
        "\n",
        "    # Armazenando as precisões, revocações e acurácias nas listas criadas\n",
        "    precisoes.append(precisao)\n",
        "    revocacoes.append(revocacao)\n",
        "    acuracias.append(acuracia)\n",
        "    f1s.append(f1)\n",
        "    kaps.append(kappa)\n",
        "    rocs.append(roc)\n",
        "\n",
        "    # Exibindo as métricas para cada um dos folds\n",
        "    #print(f\"Precisão: {precisao:.3f}\")\n",
        "    #print(f\"Revocação: {revocacao:.3f}\")\n",
        "    #print(f\"Acurácia: {acuracia:.3f}\")\n",
        "    #print(f\"F1: {f1:.3f}\")\n",
        "    #print(f\"Kappa: {kappa:.3f}\")\n",
        "    #print(f\"Roc: {roc:.3f}\")\n",
        "\n",
        "    # Transformando as listas precisões, revocações, acurácias em arrays,\n",
        "# para fazer operações matemáticas\n",
        "precisoes = np.array(precisoes)\n",
        "revocacoes = np.array(revocacoes)\n",
        "acuracias = np.array(acuracias)\n",
        "f1s = np.array(f1s)\n",
        "kaps = np.array(kaps)\n",
        "rocs = np.array(rocs)\n",
        "\n",
        "# Calculando a média de todas as precisões, revocações e acurácias\n",
        "media_precisao = np.mean(precisoes)\n",
        "media_revocacao = np.mean(revocacoes)\n",
        "media_acuracia = np.mean(acuracias)\n",
        "media_f1s = np.mean(f1s)\n",
        "media_kaps = np.mean(kaps)\n",
        "media_rocs = np.mean(rocs)\n",
        "\n",
        "# Calculando o desvio padrão de todas as precisões, revocações e acurácias\n",
        "std_precisao = np.std(precisoes)\n",
        "std_revocacao = np.std(revocacoes)\n",
        "std_acuracia = np.std(acuracias)\n",
        "std_f1s = np.std(f1s)\n",
        "std_kaps = np.std(kaps)\n",
        "std_rocs = np.std(rocs)\n",
        "\n",
        "# Exibindo a média das precisões e revocações\n",
        "print(f\"Média da precisão: {media_precisao:.3f} +/- {std_precisao:.3f}\")\n",
        "print(f\"Média da revocação: {media_revocacao:.3f} +/- {std_revocacao:.3f}\")\n",
        "print(f\"Média da acurácia: {media_acuracia:.3f} +/- {std_acuracia:.3f}\")\n",
        "print(f\"Média da f1: {media_f1s:.3f} +/- {std_f1s:.3f}\")\n",
        "print(f\"Média da kappa: {media_kaps:.3f} +/- {std_kaps:.3f}\")\n",
        "print(f\"Média da roc: {media_rocs:.3f} +/- {std_rocs:.3f}\")"
      ],
      "metadata": {
        "colab": {
          "base_uri": "https://localhost:8080/"
        },
        "id": "opZBpEHr5UET",
        "outputId": "289124bd-def4-42f9-ecb4-31c4e71c8df2"
      },
      "execution_count": 57,
      "outputs": [
        {
          "output_type": "stream",
          "name": "stdout",
          "text": [
            "=-=-=-=-=-=-Fold: 1-=-=-=-=-=-=\n"
          ]
        },
        {
          "output_type": "stream",
          "name": "stderr",
          "text": [
            "/usr/local/lib/python3.10/dist-packages/sklearn/neural_network/_multilayer_perceptron.py:686: ConvergenceWarning: Stochastic Optimizer: Maximum iterations (200) reached and the optimization hasn't converged yet.\n",
            "  warnings.warn(\n"
          ]
        },
        {
          "output_type": "stream",
          "name": "stdout",
          "text": [
            "=-=-=-=-=-=-Fold: 2-=-=-=-=-=-=\n"
          ]
        },
        {
          "output_type": "stream",
          "name": "stderr",
          "text": [
            "/usr/local/lib/python3.10/dist-packages/sklearn/neural_network/_multilayer_perceptron.py:686: ConvergenceWarning: Stochastic Optimizer: Maximum iterations (200) reached and the optimization hasn't converged yet.\n",
            "  warnings.warn(\n"
          ]
        },
        {
          "output_type": "stream",
          "name": "stdout",
          "text": [
            "=-=-=-=-=-=-Fold: 3-=-=-=-=-=-=\n"
          ]
        },
        {
          "output_type": "stream",
          "name": "stderr",
          "text": [
            "/usr/local/lib/python3.10/dist-packages/sklearn/neural_network/_multilayer_perceptron.py:686: ConvergenceWarning: Stochastic Optimizer: Maximum iterations (200) reached and the optimization hasn't converged yet.\n",
            "  warnings.warn(\n"
          ]
        },
        {
          "output_type": "stream",
          "name": "stdout",
          "text": [
            "=-=-=-=-=-=-Fold: 4-=-=-=-=-=-=\n"
          ]
        },
        {
          "output_type": "stream",
          "name": "stderr",
          "text": [
            "/usr/local/lib/python3.10/dist-packages/sklearn/neural_network/_multilayer_perceptron.py:686: ConvergenceWarning: Stochastic Optimizer: Maximum iterations (200) reached and the optimization hasn't converged yet.\n",
            "  warnings.warn(\n"
          ]
        },
        {
          "output_type": "stream",
          "name": "stdout",
          "text": [
            "=-=-=-=-=-=-Fold: 5-=-=-=-=-=-=\n"
          ]
        },
        {
          "output_type": "stream",
          "name": "stderr",
          "text": [
            "/usr/local/lib/python3.10/dist-packages/sklearn/neural_network/_multilayer_perceptron.py:686: ConvergenceWarning: Stochastic Optimizer: Maximum iterations (200) reached and the optimization hasn't converged yet.\n",
            "  warnings.warn(\n"
          ]
        },
        {
          "output_type": "stream",
          "name": "stdout",
          "text": [
            "=-=-=-=-=-=-Fold: 6-=-=-=-=-=-=\n"
          ]
        },
        {
          "output_type": "stream",
          "name": "stderr",
          "text": [
            "/usr/local/lib/python3.10/dist-packages/sklearn/neural_network/_multilayer_perceptron.py:686: ConvergenceWarning: Stochastic Optimizer: Maximum iterations (200) reached and the optimization hasn't converged yet.\n",
            "  warnings.warn(\n"
          ]
        },
        {
          "output_type": "stream",
          "name": "stdout",
          "text": [
            "=-=-=-=-=-=-Fold: 7-=-=-=-=-=-=\n"
          ]
        },
        {
          "output_type": "stream",
          "name": "stderr",
          "text": [
            "/usr/local/lib/python3.10/dist-packages/sklearn/neural_network/_multilayer_perceptron.py:686: ConvergenceWarning: Stochastic Optimizer: Maximum iterations (200) reached and the optimization hasn't converged yet.\n",
            "  warnings.warn(\n"
          ]
        },
        {
          "output_type": "stream",
          "name": "stdout",
          "text": [
            "=-=-=-=-=-=-Fold: 8-=-=-=-=-=-=\n"
          ]
        },
        {
          "output_type": "stream",
          "name": "stderr",
          "text": [
            "/usr/local/lib/python3.10/dist-packages/sklearn/neural_network/_multilayer_perceptron.py:686: ConvergenceWarning: Stochastic Optimizer: Maximum iterations (200) reached and the optimization hasn't converged yet.\n",
            "  warnings.warn(\n"
          ]
        },
        {
          "output_type": "stream",
          "name": "stdout",
          "text": [
            "=-=-=-=-=-=-Fold: 9-=-=-=-=-=-=\n"
          ]
        },
        {
          "output_type": "stream",
          "name": "stderr",
          "text": [
            "/usr/local/lib/python3.10/dist-packages/sklearn/neural_network/_multilayer_perceptron.py:686: ConvergenceWarning: Stochastic Optimizer: Maximum iterations (200) reached and the optimization hasn't converged yet.\n",
            "  warnings.warn(\n"
          ]
        },
        {
          "output_type": "stream",
          "name": "stdout",
          "text": [
            "=-=-=-=-=-=-Fold: 10-=-=-=-=-=-=\n"
          ]
        },
        {
          "output_type": "stream",
          "name": "stderr",
          "text": [
            "/usr/local/lib/python3.10/dist-packages/sklearn/neural_network/_multilayer_perceptron.py:686: ConvergenceWarning: Stochastic Optimizer: Maximum iterations (200) reached and the optimization hasn't converged yet.\n",
            "  warnings.warn(\n"
          ]
        },
        {
          "output_type": "stream",
          "name": "stdout",
          "text": [
            "=-=-=-=-=-=-Fold: 11-=-=-=-=-=-=\n"
          ]
        },
        {
          "output_type": "stream",
          "name": "stderr",
          "text": [
            "/usr/local/lib/python3.10/dist-packages/sklearn/neural_network/_multilayer_perceptron.py:686: ConvergenceWarning: Stochastic Optimizer: Maximum iterations (200) reached and the optimization hasn't converged yet.\n",
            "  warnings.warn(\n"
          ]
        },
        {
          "output_type": "stream",
          "name": "stdout",
          "text": [
            "=-=-=-=-=-=-Fold: 12-=-=-=-=-=-=\n"
          ]
        },
        {
          "output_type": "stream",
          "name": "stderr",
          "text": [
            "/usr/local/lib/python3.10/dist-packages/sklearn/neural_network/_multilayer_perceptron.py:686: ConvergenceWarning: Stochastic Optimizer: Maximum iterations (200) reached and the optimization hasn't converged yet.\n",
            "  warnings.warn(\n"
          ]
        },
        {
          "output_type": "stream",
          "name": "stdout",
          "text": [
            "=-=-=-=-=-=-Fold: 13-=-=-=-=-=-=\n"
          ]
        },
        {
          "output_type": "stream",
          "name": "stderr",
          "text": [
            "/usr/local/lib/python3.10/dist-packages/sklearn/neural_network/_multilayer_perceptron.py:686: ConvergenceWarning: Stochastic Optimizer: Maximum iterations (200) reached and the optimization hasn't converged yet.\n",
            "  warnings.warn(\n"
          ]
        },
        {
          "output_type": "stream",
          "name": "stdout",
          "text": [
            "=-=-=-=-=-=-Fold: 14-=-=-=-=-=-=\n"
          ]
        },
        {
          "output_type": "stream",
          "name": "stderr",
          "text": [
            "/usr/local/lib/python3.10/dist-packages/sklearn/neural_network/_multilayer_perceptron.py:686: ConvergenceWarning: Stochastic Optimizer: Maximum iterations (200) reached and the optimization hasn't converged yet.\n",
            "  warnings.warn(\n"
          ]
        },
        {
          "output_type": "stream",
          "name": "stdout",
          "text": [
            "=-=-=-=-=-=-Fold: 15-=-=-=-=-=-=\n",
            "Média da precisão: 0.727 +/- 0.014\n",
            "Média da revocação: 0.726 +/- 0.014\n",
            "Média da acurácia: 0.726 +/- 0.014\n",
            "Média da f1: 0.738 +/- 0.013\n",
            "Média da kappa: 0.452 +/- 0.028\n",
            "Média da roc: 0.726 +/- 0.014\n"
          ]
        },
        {
          "output_type": "stream",
          "name": "stderr",
          "text": [
            "/usr/local/lib/python3.10/dist-packages/sklearn/neural_network/_multilayer_perceptron.py:686: ConvergenceWarning: Stochastic Optimizer: Maximum iterations (200) reached and the optimization hasn't converged yet.\n",
            "  warnings.warn(\n"
          ]
        }
      ]
    },
    {
      "cell_type": "code",
      "source": [
        "precisoes = np.array(precisoes)\n",
        "revocacoes = np.array(revocacoes)\n",
        "acuracias = np.array(acuracias)\n",
        "f1s = np.array(f1s)\n",
        "kaps = np.array(kaps)\n",
        "rocs = np.array(rocs)"
      ],
      "metadata": {
        "id": "NACP4SG3K2Rt"
      },
      "execution_count": null,
      "outputs": []
    },
    {
      "cell_type": "code",
      "source": [
        "from scipy import stats\n",
        "\n",
        "stat, p_value = stats.wilcoxon(k_kaps,d_kaps)\n",
        "\n",
        "print('Statistics=%.0f, p=%.13f' % (stat, p_value))\n",
        "# Level of significance\n",
        "alpha = 0.05\n",
        "# conclusion\n",
        "if p_value < alpha:\n",
        "    print('Reject Null Hypothesis (Significant difference between two samples)')\n",
        "else:\n",
        "    print('Do not Reject Null Hypothesis (No significant difference between two samples)')"
      ],
      "metadata": {
        "colab": {
          "base_uri": "https://localhost:8080/"
        },
        "id": "ywpVmFqqIsZG",
        "outputId": "c52f3d94-d577-4b09-a29d-2f6c4184fae8"
      },
      "execution_count": 75,
      "outputs": [
        {
          "output_type": "stream",
          "name": "stdout",
          "text": [
            "Statistics=0, p=0.0000610351562\n",
            "Reject Null Hypothesis (Significant difference between two samples)\n"
          ]
        }
      ]
    },
    {
      "cell_type": "code",
      "source": [
        "from sklearn.metrics import confusion_matrix, ConfusionMatrixDisplay\n",
        "import matplotlib.pyplot as plt\n",
        "\n",
        "ConfusionMatrixDisplay(confusion_matrix=confusion_matrix(y_test, y_pred)).plot()\n",
        "plt.grid(False)\n",
        "plt.show()"
      ],
      "metadata": {
        "colab": {
          "base_uri": "https://localhost:8080/",
          "height": 449
        },
        "id": "5GKdTjLPcmWd",
        "outputId": "896743da-d588-40cf-ab30-52e28bc69b50"
      },
      "execution_count": 28,
      "outputs": [
        {
          "output_type": "display_data",
          "data": {
            "text/plain": [
              "<Figure size 640x480 with 2 Axes>"
            ],
            "image/png": "[encoded data removed]"
          },
          "metadata": {}
        }
      ]
    },
    {
      "cell_type": "code",
      "source": [
        "from sklearn.metrics import confusion_matrix, ConfusionMatrixDisplay\n",
        "import matplotlib.pyplot as plt\n",
        "\n",
        "ConfusionMatrixDisplay(confusion_matrix=confusion_matrix(y_test, y_pred)).plot()\n",
        "plt.grid(False)\n",
        "plt.show()"
      ],
      "metadata": {
        "colab": {
          "base_uri": "https://localhost:8080/",
          "height": 453
        },
        "id": "5uk0ozDXcnwR",
        "outputId": "45527986-b123-4a0a-9b99-1d6409588746"
      },
      "execution_count": 57,
      "outputs": [
        {
          "output_type": "display_data",
          "data": {
            "text/plain": [
              "<Figure size 640x480 with 2 Axes>"
            ],
            "image/png": "[encoded data removed]"
          },
          "metadata": {}
        }
      ]
    },
    {
      "cell_type": "code",
      "source": [
        "X = ATT2.drop(\"abuso\", axis=1)\n",
        "y = ATT2.abuso\n",
        "X_train, X_test, y_train, y_test = train_test_split(X, y, test_size=0.25, stratify=y)\n",
        "###### MLP\n",
        "mlp = MLPClassifier()\n",
        "\n",
        "mlp.fit(X_train, y_train)\n",
        "\n",
        "y_pred = mlp.predict(X_train)\n",
        "\n",
        "print(\"Ac: %.2f\" % accuracy_score(y_train, y_pred))\n",
        "print(\"precision_score: %.2f\" % precision_score(y_train, y_pred))\n",
        "print(\"recall_score: %.2f\" % recall_score(y_train, y_pred))\n",
        "print(\"f1_score: %.2f\" % f1_score(y_train, y_pred))\n",
        "print(\"Kappa: %.2f\" % cohen_kappa_score(y_train, y_pred))\n",
        "print(\"ROC: %.2f\" % roc_auc_score(y_train, y_pred))\n",
        "\n",
        "y_pred = mlp.predict(X_test)\n",
        "\n",
        "print(\"Ac: %.2f\" % accuracy_score(y_test, y_pred))\n",
        "print(\"precision_score: %.2f\" % precision_score(y_test, y_pred))\n",
        "print(\"recall_score: %.2f\" % recall_score(y_test, y_pred))\n",
        "print(\"f1_score: %.2f\" % f1_score(y_test, y_pred))\n",
        "print(\"Kappa: %.2f\" % cohen_kappa_score(y_test, y_pred))\n",
        "print(\"ROC: %.2f\" % roc_auc_score(y_test, y_pred))\n",
        "\n"
      ],
      "metadata": {
        "colab": {
          "base_uri": "https://localhost:8080/"
        },
        "id": "3fmo3gFT07hl",
        "outputId": "d9a5afe5-3587-42c1-d538-bc8a3bc56698"
      },
      "execution_count": 58,
      "outputs": [
        {
          "output_type": "stream",
          "name": "stdout",
          "text": [
            "Ac: 0.52\n",
            "precision_score: 0.52\n",
            "recall_score: 1.00\n",
            "f1_score: 0.68\n",
            "Kappa: 0.00\n",
            "ROC: 0.50\n",
            "Ac: 0.52\n",
            "precision_score: 0.52\n",
            "recall_score: 1.00\n",
            "f1_score: 0.68\n",
            "Kappa: -0.00\n",
            "ROC: 0.50\n"
          ]
        }
      ]
    },
    {
      "cell_type": "code",
      "source": [
        "from sklearn.metrics import confusion_matrix, ConfusionMatrixDisplay\n",
        "import matplotlib.pyplot as plt\n",
        "\n",
        "ConfusionMatrixDisplay(confusion_matrix=confusion_matrix(y_test, y_pred)).plot()\n",
        "plt.grid(False)\n",
        "plt.show()"
      ],
      "metadata": {
        "colab": {
          "base_uri": "https://localhost:8080/",
          "height": 449
        },
        "id": "HVZX4l0w1LLO",
        "outputId": "112f1ba9-5314-4d26-b018-4a496e6532d0"
      },
      "execution_count": 59,
      "outputs": [
        {
          "output_type": "display_data",
          "data": {
            "text/plain": [
              "<Figure size 640x480 with 2 Axes>"
            ],
            "image/png": "[encoded data removed]"
          },
          "metadata": {}
        }
      ]
    },
    {
      "cell_type": "markdown",
      "source": [
        "Verificar a normalidade dos dados..."
      ],
      "metadata": {
        "id": "jOzBtY6HcU2X"
      }
    },
    {
      "cell_type": "code",
      "source": [],
      "metadata": {
        "id": "ZHmISuSxcSVJ"
      },
      "execution_count": null,
      "outputs": []
    },
    {
      "cell_type": "code",
      "source": [
        "from scipy import stats\n",
        "#stat, p_value = stats.wilcoxon(KNN,CART)\n",
        "#stat, p_value = stats.wilcoxon(KNN,MLP)\n",
        "#stat, p_value = stats.wilcoxon(MLP,CART)\n",
        "#stat, p_value = stats.wilcoxon(KNN2,CART2)\n",
        "#stat, p_value = stats.wilcoxon(KNN2,MLP2)\n",
        "stat, p_value = stats.wilcoxon(MLP2,CART2)\n",
        "\n",
        "print('Statistics=%.0f, p=%.13f' % (stat, p_value))\n",
        "# Level of significance\n",
        "alpha = 0.05\n",
        "# conclusion\n",
        "if p_value < alpha:\n",
        "    print('Reject Null Hypothesis (Significant difference between two samples)')\n",
        "else:\n",
        "    print('Do not Reject Null Hypothesis (No significant difference between two samples)')"
      ],
      "metadata": {
        "colab": {
          "base_uri": "https://localhost:8080/"
        },
        "id": "OFDY61yPMb0U",
        "outputId": "6081a2f9-75fd-4f99-8995-6d2ecb7d5d01"
      },
      "execution_count": 78,
      "outputs": [
        {
          "output_type": "stream",
          "name": "stdout",
          "text": [
            "Statistics=2, p=0.0937500000000\n",
            "Do not Reject Null Hypothesis (No significant difference between two samples)\n"
          ]
        }
      ]
    },
    {
      "cell_type": "markdown",
      "source": [
        "**Notas**"
      ],
      "metadata": {
        "id": "NT-cUVRlu_4I"
      }
    },
    {
      "cell_type": "code",
      "source": [
        "notas = pd.read_csv(\"/content/drive/MyDrive/ADA/TESE/game.csv\",delimiter=r\";\")"
      ],
      "metadata": {
        "id": "oGzke_F0os3e"
      },
      "execution_count": 59,
      "outputs": []
    },
    {
      "cell_type": "code",
      "source": [
        "notas.value_counts('Etnia')"
      ],
      "metadata": {
        "colab": {
          "base_uri": "https://localhost:8080/"
        },
        "id": "vNwXGLU4gx0d",
        "outputId": "fced84f4-ae39-4d9c-ce56-cd3ea18696b6"
      },
      "execution_count": 60,
      "outputs": [
        {
          "output_type": "execute_result",
          "data": {
            "text/plain": [
              "Etnia\n",
              "0.0    87\n",
              "1.0    44\n",
              "dtype: int64"
            ]
          },
          "metadata": {},
          "execution_count": 60
        }
      ]
    },
    {
      "cell_type": "code",
      "source": [
        "notas['Gain']=(notas['NotaPre']-notas['NotaPos'])/(1-notas['NotaPre']).astype(float)"
      ],
      "metadata": {
        "id": "RnK0IAFNfZB-"
      },
      "execution_count": 61,
      "outputs": []
    },
    {
      "cell_type": "code",
      "source": [
        "notas=notas.astype(float)"
      ],
      "metadata": {
        "id": "Qy0lMQj9fe2j"
      },
      "execution_count": 62,
      "outputs": []
    },
    {
      "cell_type": "code",
      "source": [
        "notas.Gain.isnull().sum()"
      ],
      "metadata": {
        "colab": {
          "base_uri": "https://localhost:8080/"
        },
        "id": "1HazPsXKZYMg",
        "outputId": "5c1d1b56-0b5a-47d1-cb24-f52e024d29b4"
      },
      "execution_count": 63,
      "outputs": [
        {
          "output_type": "execute_result",
          "data": {
            "text/plain": [
              "12"
            ]
          },
          "metadata": {},
          "execution_count": 63
        }
      ]
    },
    {
      "cell_type": "code",
      "source": [
        "comabuso = notas[(notas['abuso']==1)]\n",
        "semabuso = notas[(notas['abuso']==0)]\n",
        "\n",
        "comabusoCS1=comabuso[(comabuso['Turma']==1)]\n",
        "comabusoCS2=comabuso[(comabuso['Turma']==2)]\n",
        "\n",
        "semabusoCS1=semabuso[(semabuso['Turma']==1)]\n",
        "semabusoCS2=semabuso[(semabuso['Turma']==2)]"
      ],
      "metadata": {
        "id": "o7GQaVP5pQwg"
      },
      "execution_count": 64,
      "outputs": []
    },
    {
      "cell_type": "code",
      "source": [
        "comabuso = notas[(notas['abuso']==1)]\n",
        "semabuso = notas[(notas['abuso']==0)]\n",
        "\n",
        "comabuso1=comabuso[(comabuso['Etnia']==1)]\n",
        "comabuso0=comabuso[(comabuso['Etnia']==0)]\n",
        "\n",
        "semabuso1=semabuso[(semabuso['Etnia']==1)]\n",
        "semabuso0=semabuso[(semabuso['Etnia']==0)]"
      ],
      "metadata": {
        "id": "xXVZ3Xr-w77X"
      },
      "execution_count": 78,
      "outputs": []
    },
    {
      "cell_type": "code",
      "source": [
        "comabuso = notas[(notas['abuso']==1)]\n",
        "semabuso = notas[(notas['abuso']==0)]\n",
        "\n",
        "comabuso1=comabuso[(comabuso['Sexo']==1)]\n",
        "comabuso0=comabuso[(comabuso['Sexo']==2)]\n",
        "\n",
        "semabuso1=semabuso[(semabuso['Etnia']==1)]\n",
        "semabuso0=semabuso[(semabuso['Etnia']==0)]"
      ],
      "metadata": {
        "id": "c-lIkTxv_38b"
      },
      "execution_count": 81,
      "outputs": []
    },
    {
      "cell_type": "code",
      "source": [
        "comabuso = notas[(notas['abuso']==1)]\n",
        "semabuso = notas[(notas['abuso']==0)]\n",
        "\n",
        "comabuso1=comabuso[(comabuso['Faixa']==1)]\n",
        "comabuso2=comabuso[(comabuso['Faixa']==2)]\n",
        "comabuso3=comabuso[(comabuso['Faixa']==3)]\n"
      ],
      "metadata": {
        "id": "-bPzEj9p3qRp"
      },
      "execution_count": 74,
      "outputs": []
    },
    {
      "cell_type": "code",
      "source": [
        "comabuso.Gain"
      ],
      "metadata": {
        "id": "LhXdUz3nfCT2"
      },
      "execution_count": null,
      "outputs": []
    },
    {
      "cell_type": "code",
      "source": [
        "from scipy import stats\n",
        "\n",
        "shapiro_test = stats.shapiro(notas['Gain'])\n",
        "shapiro_test"
      ],
      "metadata": {
        "colab": {
          "base_uri": "https://localhost:8080/"
        },
        "id": "r0GKHhNNeB0h",
        "outputId": "97f1bbd5-c310-4736-d6c9-1ce912b04c52"
      },
      "execution_count": 67,
      "outputs": [
        {
          "output_type": "execute_result",
          "data": {
            "text/plain": [
              "ShapiroResult(statistic=nan, pvalue=1.0)"
            ]
          },
          "metadata": {},
          "execution_count": 67
        }
      ]
    },
    {
      "cell_type": "code",
      "source": [
        "notas.info()"
      ],
      "metadata": {
        "id": "geemVoQD0MP2"
      },
      "execution_count": null,
      "outputs": []
    },
    {
      "cell_type": "code",
      "source": [
        "# Importa as bibliotecas\n",
        "import pandas as pd\n",
        "import scipy.stats as stats\n",
        "#import researchpy as rp\n",
        "import statsmodels.api as sm\n",
        "from statsmodels.formula.api import ols\n",
        "import matplotlib.pyplot as plt"
      ],
      "metadata": {
        "id": "fs1X4WfnnZqG"
      },
      "execution_count": 68,
      "outputs": []
    },
    {
      "cell_type": "code",
      "source": [
        "from scipy.stats import mannwhitneyu\n",
        "# stats f_oneway functions takes the groups as input and returns ANOVA F and p value\n",
        "stat, p_value = mannwhitneyu(comabusoCS2['Gain'],semabusoCS['Gain'])\n",
        "print('Statistics=%.3f, p=%.13f' % (stat, p_value))\n",
        "# Level of significance\n",
        "alpha = 0.05\n",
        "# conclusion\n",
        "if p_value < alpha:\n",
        "    print('Reject Null Hypothesis (Significant difference between two samples)')\n",
        "else:\n",
        "    print('Do not Reject Null Hypothesis (No significant difference between two samples)')"
      ],
      "metadata": {
        "colab": {
          "base_uri": "https://localhost:8080/"
        },
        "id": "kxoEbEasntRA",
        "outputId": "948b3233-1d63-484f-ffee-ea341c210c2d"
      },
      "execution_count": 69,
      "outputs": [
        {
          "output_type": "stream",
          "name": "stdout",
          "text": [
            "Statistics=305.000, p=0.2243500705761\n",
            "Do not Reject Null Hypothesis (No significant difference between two samples)\n"
          ]
        }
      ]
    },
    {
      "cell_type": "code",
      "source": [
        "stat, p_value = mannwhitneyu(comabuso1['freq'],comabuso0['freq'])\n",
        "print('Statistics=%.3f, p=%.13f' % (stat, p_value))\n",
        "# Level of significance\n",
        "alpha = 0.05\n",
        "# conclusion\n",
        "if p_value < alpha:\n",
        "    print('Reject Null Hypothesis (Significant difference between two samples)')\n",
        "else:\n",
        "    print('Do not Reject Null Hypothesis (No significant difference between two samples)')"
      ],
      "metadata": {
        "colab": {
          "base_uri": "https://localhost:8080/"
        },
        "id": "aZfglEqqxZ3r",
        "outputId": "b703c87c-54ed-463e-b9a3-e29243d7573d"
      },
      "execution_count": 82,
      "outputs": [
        {
          "output_type": "stream",
          "name": "stdout",
          "text": [
            "Statistics=996.500, p=0.0312869651396\n",
            "Reject Null Hypothesis (Significant difference between two samples)\n"
          ]
        }
      ]
    },
    {
      "cell_type": "code",
      "source": [
        "notas"
      ],
      "metadata": {
        "colab": {
          "base_uri": "https://localhost:8080/",
          "height": 443
        },
        "id": "RfK6e79m-l6l",
        "outputId": "25d1f8a4-6fce-4772-bc79-961ad6cbd6cf"
      },
      "execution_count": 82,
      "outputs": [
        {
          "output_type": "execute_result",
          "data": {
            "text/plain": [
              "     idStudent  Turma  D01  D02  D03  D04  D05  D06  D07  D08  ...  NotaPre  \\\n",
              "0          2.0    1.0  5.0  5.0  5.0  2.0  4.0  2.0  2.0  5.0  ...     87.0   \n",
              "1          4.0    1.0  2.0  5.0  5.0  2.0  4.0  3.0  2.0  5.0  ...     26.0   \n",
              "2         23.0    1.0  2.0  5.0  3.0  2.0  4.0  1.0  2.0  3.0  ...     64.0   \n",
              "3         39.0    1.0  5.0  4.0  4.0  1.0  4.0  1.0  2.0  5.0  ...     23.0   \n",
              "4         42.0    1.0  3.0  4.0  4.0  1.0  1.0  1.0  1.0  3.0  ...     25.0   \n",
              "..         ...    ...  ...  ...  ...  ...  ...  ...  ...  ...  ...      ...   \n",
              "126      144.0    2.0  1.0  3.0  3.0  4.0  1.0  3.0  1.0  4.0  ...     38.0   \n",
              "127      145.0    2.0  1.0  3.0  4.0  4.0  1.0  3.0  5.0  4.0  ...     33.0   \n",
              "128      146.0    2.0  3.0  1.0  5.0  2.0  1.0  1.0  2.0  3.0  ...     33.0   \n",
              "129      147.0    2.0  3.0  1.0  4.0  5.0  3.0  4.0  1.0  1.0  ...     89.0   \n",
              "130      148.0    2.0  2.0  2.0  5.0  3.0  5.0  2.0  5.0  4.0  ...     33.0   \n",
              "\n",
              "     Inter1  Inter2  NotaPos  Intervencao      Gain  Sexo  Faixa  Etnia  abuso  \n",
              "0      45.0    90.0     97.0         68.0  0.116279   1.0    1.0    1.0    0.0  \n",
              "1      38.0    95.0     77.0         67.0  2.040000   1.0    1.0    1.0    0.0  \n",
              "2      62.0    87.0     84.0         74.0  0.317460   1.0    2.0    0.0    0.0  \n",
              "3      64.0    92.0     62.0         78.0  1.772727   1.0    2.0    0.0    0.0  \n",
              "4      89.0    74.0     85.0         82.0  2.500000   1.0    3.0    0.0    0.0  \n",
              "..      ...     ...      ...          ...       ...   ...    ...    ...    ...  \n",
              "126    84.0    57.0     79.0         70.0  1.108108   2.0    1.0    0.0    1.0  \n",
              "127    95.0    77.0     52.0         86.0  0.593750   2.0    1.0    0.0    1.0  \n",
              "128    95.0    14.0     44.0          8.0  0.343750   2.0    1.0    0.0    1.0  \n",
              "129     2.0    35.0     64.0         19.0 -0.284091   2.0    2.0    0.0    1.0  \n",
              "130    90.0    88.0     68.0         89.0  1.093750   2.0    2.0    0.0    1.0  \n",
              "\n",
              "[131 rows x 26 columns]"
            ],
            "text/html": [
              "\n",
              "  <div id=\"df-258987ad-9efa-4fbd-802a-9d4b8f1bfc91\" class=\"colab-df-container\">\n",
              "    <div>\n",
              "<style scoped>\n",
              "    .dataframe tbody tr th:only-of-type {\n",
              "        vertical-align: middle;\n",
              "    }\n",
              "\n",
              "    .dataframe tbody tr th {\n",
              "        vertical-align: top;\n",
              "    }\n",
              "\n",
              "    .dataframe thead th {\n",
              "        text-align: right;\n",
              "    }\n",
              "</style>\n",
              "<table border=\"1\" class=\"dataframe\">\n",
              "  <thead>\n",
              "    <tr style=\"text-align: right;\">\n",
              "      <th></th>\n",
              "      <th>idStudent</th>\n",
              "      <th>Turma</th>\n",
              "      <th>D01</th>\n",
              "      <th>D02</th>\n",
              "      <th>D03</th>\n",
              "      <th>D04</th>\n",
              "      <th>D05</th>\n",
              "      <th>D06</th>\n",
              "      <th>D07</th>\n",
              "      <th>D08</th>\n",
              "      <th>...</th>\n",
              "      <th>NotaPre</th>\n",
              "      <th>Inter1</th>\n",
              "      <th>Inter2</th>\n",
              "      <th>NotaPos</th>\n",
              "      <th>Intervencao</th>\n",
              "      <th>Gain</th>\n",
              "      <th>Sexo</th>\n",
              "      <th>Faixa</th>\n",
              "      <th>Etnia</th>\n",
              "      <th>abuso</th>\n",
              "    </tr>\n",
              "  </thead>\n",
              "  <tbody>\n",
              "    <tr>\n",
              "      <th>0</th>\n",
              "      <td>2.0</td>\n",
              "      <td>1.0</td>\n",
              "      <td>5.0</td>\n",
              "      <td>5.0</td>\n",
              "      <td>5.0</td>\n",
              "      <td>2.0</td>\n",
              "      <td>4.0</td>\n",
              "      <td>2.0</td>\n",
              "      <td>2.0</td>\n",
              "      <td>5.0</td>\n",
              "      <td>...</td>\n",
              "      <td>87.0</td>\n",
              "      <td>45.0</td>\n",
              "      <td>90.0</td>\n",
              "      <td>97.0</td>\n",
              "      <td>68.0</td>\n",
              "      <td>0.116279</td>\n",
              "      <td>1.0</td>\n",
              "      <td>1.0</td>\n",
              "      <td>1.0</td>\n",
              "      <td>0.0</td>\n",
              "    </tr>\n",
              "    <tr>\n",
              "      <th>1</th>\n",
              "      <td>4.0</td>\n",
              "      <td>1.0</td>\n",
              "      <td>2.0</td>\n",
              "      <td>5.0</td>\n",
              "      <td>5.0</td>\n",
              "      <td>2.0</td>\n",
              "      <td>4.0</td>\n",
              "      <td>3.0</td>\n",
              "      <td>2.0</td>\n",
              "      <td>5.0</td>\n",
              "      <td>...</td>\n",
              "      <td>26.0</td>\n",
              "      <td>38.0</td>\n",
              "      <td>95.0</td>\n",
              "      <td>77.0</td>\n",
              "      <td>67.0</td>\n",
              "      <td>2.040000</td>\n",
              "      <td>1.0</td>\n",
              "      <td>1.0</td>\n",
              "      <td>1.0</td>\n",
              "      <td>0.0</td>\n",
              "    </tr>\n",
              "    <tr>\n",
              "      <th>2</th>\n",
              "      <td>23.0</td>\n",
              "      <td>1.0</td>\n",
              "      <td>2.0</td>\n",
              "      <td>5.0</td>\n",
              "      <td>3.0</td>\n",
              "      <td>2.0</td>\n",
              "      <td>4.0</td>\n",
              "      <td>1.0</td>\n",
              "      <td>2.0</td>\n",
              "      <td>3.0</td>\n",
              "      <td>...</td>\n",
              "      <td>64.0</td>\n",
              "      <td>62.0</td>\n",
              "      <td>87.0</td>\n",
              "      <td>84.0</td>\n",
              "      <td>74.0</td>\n",
              "      <td>0.317460</td>\n",
              "      <td>1.0</td>\n",
              "      <td>2.0</td>\n",
              "      <td>0.0</td>\n",
              "      <td>0.0</td>\n",
              "    </tr>\n",
              "    <tr>\n",
              "      <th>3</th>\n",
              "      <td>39.0</td>\n",
              "      <td>1.0</td>\n",
              "      <td>5.0</td>\n",
              "      <td>4.0</td>\n",
              "      <td>4.0</td>\n",
              "      <td>1.0</td>\n",
              "      <td>4.0</td>\n",
              "      <td>1.0</td>\n",
              "      <td>2.0</td>\n",
              "      <td>5.0</td>\n",
              "      <td>...</td>\n",
              "      <td>23.0</td>\n",
              "      <td>64.0</td>\n",
              "      <td>92.0</td>\n",
              "      <td>62.0</td>\n",
              "      <td>78.0</td>\n",
              "      <td>1.772727</td>\n",
              "      <td>1.0</td>\n",
              "      <td>2.0</td>\n",
              "      <td>0.0</td>\n",
              "      <td>0.0</td>\n",
              "    </tr>\n",
              "    <tr>\n",
              "      <th>4</th>\n",
              "      <td>42.0</td>\n",
              "      <td>1.0</td>\n",
              "      <td>3.0</td>\n",
              "      <td>4.0</td>\n",
              "      <td>4.0</td>\n",
              "      <td>1.0</td>\n",
              "      <td>1.0</td>\n",
              "      <td>1.0</td>\n",
              "      <td>1.0</td>\n",
              "      <td>3.0</td>\n",
              "      <td>...</td>\n",
              "      <td>25.0</td>\n",
              "      <td>89.0</td>\n",
              "      <td>74.0</td>\n",
              "      <td>85.0</td>\n",
              "      <td>82.0</td>\n",
              "      <td>2.500000</td>\n",
              "      <td>1.0</td>\n",
              "      <td>3.0</td>\n",
              "      <td>0.0</td>\n",
              "      <td>0.0</td>\n",
              "    </tr>\n",
              "    <tr>\n",
              "      <th>...</th>\n",
              "      <td>...</td>\n",
              "      <td>...</td>\n",
              "      <td>...</td>\n",
              "      <td>...</td>\n",
              "      <td>...</td>\n",
              "      <td>...</td>\n",
              "      <td>...</td>\n",
              "      <td>...</td>\n",
              "      <td>...</td>\n",
              "      <td>...</td>\n",
              "      <td>...</td>\n",
              "      <td>...</td>\n",
              "      <td>...</td>\n",
              "      <td>...</td>\n",
              "      <td>...</td>\n",
              "      <td>...</td>\n",
              "      <td>...</td>\n",
              "      <td>...</td>\n",
              "      <td>...</td>\n",
              "      <td>...</td>\n",
              "      <td>...</td>\n",
              "    </tr>\n",
              "    <tr>\n",
              "      <th>126</th>\n",
              "      <td>144.0</td>\n",
              "      <td>2.0</td>\n",
              "      <td>1.0</td>\n",
              "      <td>3.0</td>\n",
              "      <td>3.0</td>\n",
              "      <td>4.0</td>\n",
              "      <td>1.0</td>\n",
              "      <td>3.0</td>\n",
              "      <td>1.0</td>\n",
              "      <td>4.0</td>\n",
              "      <td>...</td>\n",
              "      <td>38.0</td>\n",
              "      <td>84.0</td>\n",
              "      <td>57.0</td>\n",
              "      <td>79.0</td>\n",
              "      <td>70.0</td>\n",
              "      <td>1.108108</td>\n",
              "      <td>2.0</td>\n",
              "      <td>1.0</td>\n",
              "      <td>0.0</td>\n",
              "      <td>1.0</td>\n",
              "    </tr>\n",
              "    <tr>\n",
              "      <th>127</th>\n",
              "      <td>145.0</td>\n",
              "      <td>2.0</td>\n",
              "      <td>1.0</td>\n",
              "      <td>3.0</td>\n",
              "      <td>4.0</td>\n",
              "      <td>4.0</td>\n",
              "      <td>1.0</td>\n",
              "      <td>3.0</td>\n",
              "      <td>5.0</td>\n",
              "      <td>4.0</td>\n",
              "      <td>...</td>\n",
              "      <td>33.0</td>\n",
              "      <td>95.0</td>\n",
              "      <td>77.0</td>\n",
              "      <td>52.0</td>\n",
              "      <td>86.0</td>\n",
              "      <td>0.593750</td>\n",
              "      <td>2.0</td>\n",
              "      <td>1.0</td>\n",
              "      <td>0.0</td>\n",
              "      <td>1.0</td>\n",
              "    </tr>\n",
              "    <tr>\n",
              "      <th>128</th>\n",
              "      <td>146.0</td>\n",
              "      <td>2.0</td>\n",
              "      <td>3.0</td>\n",
              "      <td>1.0</td>\n",
              "      <td>5.0</td>\n",
              "      <td>2.0</td>\n",
              "      <td>1.0</td>\n",
              "      <td>1.0</td>\n",
              "      <td>2.0</td>\n",
              "      <td>3.0</td>\n",
              "      <td>...</td>\n",
              "      <td>33.0</td>\n",
              "      <td>95.0</td>\n",
              "      <td>14.0</td>\n",
              "      <td>44.0</td>\n",
              "      <td>8.0</td>\n",
              "      <td>0.343750</td>\n",
              "      <td>2.0</td>\n",
              "      <td>1.0</td>\n",
              "      <td>0.0</td>\n",
              "      <td>1.0</td>\n",
              "    </tr>\n",
              "    <tr>\n",
              "      <th>129</th>\n",
              "      <td>147.0</td>\n",
              "      <td>2.0</td>\n",
              "      <td>3.0</td>\n",
              "      <td>1.0</td>\n",
              "      <td>4.0</td>\n",
              "      <td>5.0</td>\n",
              "      <td>3.0</td>\n",
              "      <td>4.0</td>\n",
              "      <td>1.0</td>\n",
              "      <td>1.0</td>\n",
              "      <td>...</td>\n",
              "      <td>89.0</td>\n",
              "      <td>2.0</td>\n",
              "      <td>35.0</td>\n",
              "      <td>64.0</td>\n",
              "      <td>19.0</td>\n",
              "      <td>-0.284091</td>\n",
              "      <td>2.0</td>\n",
              "      <td>2.0</td>\n",
              "      <td>0.0</td>\n",
              "      <td>1.0</td>\n",
              "    </tr>\n",
              "    <tr>\n",
              "      <th>130</th>\n",
              "      <td>148.0</td>\n",
              "      <td>2.0</td>\n",
              "      <td>2.0</td>\n",
              "      <td>2.0</td>\n",
              "      <td>5.0</td>\n",
              "      <td>3.0</td>\n",
              "      <td>5.0</td>\n",
              "      <td>2.0</td>\n",
              "      <td>5.0</td>\n",
              "      <td>4.0</td>\n",
              "      <td>...</td>\n",
              "      <td>33.0</td>\n",
              "      <td>90.0</td>\n",
              "      <td>88.0</td>\n",
              "      <td>68.0</td>\n",
              "      <td>89.0</td>\n",
              "      <td>1.093750</td>\n",
              "      <td>2.0</td>\n",
              "      <td>2.0</td>\n",
              "      <td>0.0</td>\n",
              "      <td>1.0</td>\n",
              "    </tr>\n",
              "  </tbody>\n",
              "</table>\n",
              "<p>131 rows × 26 columns</p>\n",
              "</div>\n",
              "    <div class=\"colab-df-buttons\">\n",
              "\n",
              "  <div class=\"colab-df-container\">\n",
              "    <button class=\"colab-df-convert\" onclick=\"convertToInteractive('df-258987ad-9efa-4fbd-802a-9d4b8f1bfc91')\"\n",
              "            title=\"Convert this dataframe to an interactive table.\"\n",
              "            style=\"display:none;\">\n",
              "\n",
              "  <svg xmlns=\"http://www.w3.org/2000/svg\" height=\"24px\" viewBox=\"0 -960 960 960\">\n",
              "    <path d=\"M120-120v-720h720v720H120Zm60-500h600v-160H180v160Zm220 220h160v-160H400v160Zm0 220h160v-160H400v160ZM180-400h160v-160H180v160Zm440 0h160v-160H620v160ZM180-180h160v-160H180v160Zm440 0h160v-160H620v160Z\"/>\n",
              "  </svg>\n",
              "    </button>\n",
              "\n",
              "  <style>\n",
              "    .colab-df-container {\n",
              "      display:flex;\n",
              "      gap: 12px;\n",
              "    }\n",
              "\n",
              "    .colab-df-convert {\n",
              "      background-color: #E8F0FE;\n",
              "      border: none;\n",
              "      border-radius: 50%;\n",
              "      cursor: pointer;\n",
              "      display: none;\n",
              "      fill: #1967D2;\n",
              "      height: 32px;\n",
              "      padding: 0 0 0 0;\n",
              "      width: 32px;\n",
              "    }\n",
              "\n",
              "    .colab-df-convert:hover {\n",
              "      background-color: #E2EBFA;\n",
              "      box-shadow: 0px 1px 2px rgba(60, 64, 67, 0.3), 0px 1px 3px 1px rgba(60, 64, 67, 0.15);\n",
              "      fill: #174EA6;\n",
              "    }\n",
              "\n",
              "    .colab-df-buttons div {\n",
              "      margin-bottom: 4px;\n",
              "    }\n",
              "\n",
              "    [theme=dark] .colab-df-convert {\n",
              "      background-color: #3B4455;\n",
              "      fill: #D2E3FC;\n",
              "    }\n",
              "\n",
              "    [theme=dark] .colab-df-convert:hover {\n",
              "      background-color: #434B5C;\n",
              "      box-shadow: 0px 1px 3px 1px rgba(0, 0, 0, 0.15);\n",
              "      filter: drop-shadow(0px 1px 2px rgba(0, 0, 0, 0.3));\n",
              "      fill: #FFFFFF;\n",
              "    }\n",
              "  </style>\n",
              "\n",
              "    <script>\n",
              "      const buttonEl =\n",
              "        document.querySelector('#df-258987ad-9efa-4fbd-802a-9d4b8f1bfc91 button.colab-df-convert');\n",
              "      buttonEl.style.display =\n",
              "        google.colab.kernel.accessAllowed ? 'block' : 'none';\n",
              "\n",
              "      async function convertToInteractive(key) {\n",
              "        const element = document.querySelector('#df-258987ad-9efa-4fbd-802a-9d4b8f1bfc91');\n",
              "        const dataTable =\n",
              "          await google.colab.kernel.invokeFunction('convertToInteractive',\n",
              "                                                    [key], {});\n",
              "        if (!dataTable) return;\n",
              "\n",
              "        const docLinkHtml = 'Like what you see? Visit the ' +\n",
              "          '<a target=\"_blank\" href=https://colab.research.google.com/notebooks/data_table.ipynb>data table notebook</a>'\n",
              "          + ' to learn more about interactive tables.';\n",
              "        element.innerHTML = '';\n",
              "        dataTable['output_type'] = 'display_data';\n",
              "        await google.colab.output.renderOutput(dataTable, element);\n",
              "        const docLink = document.createElement('div');\n",
              "        docLink.innerHTML = docLinkHtml;\n",
              "        element.appendChild(docLink);\n",
              "      }\n",
              "    </script>\n",
              "  </div>\n",
              "\n",
              "\n",
              "<div id=\"df-d7e8360c-592f-4bc1-aa8b-480d65224e59\">\n",
              "  <button class=\"colab-df-quickchart\" onclick=\"quickchart('df-d7e8360c-592f-4bc1-aa8b-480d65224e59')\"\n",
              "            title=\"Suggest charts\"\n",
              "            style=\"display:none;\">\n",
              "\n",
              "<svg xmlns=\"http://www.w3.org/2000/svg\" height=\"24px\"viewBox=\"0 0 24 24\"\n",
              "     width=\"24px\">\n",
              "    <g>\n",
              "        <path d=\"M19 3H5c-1.1 0-2 .9-2 2v14c0 1.1.9 2 2 2h14c1.1 0 2-.9 2-2V5c0-1.1-.9-2-2-2zM9 17H7v-7h2v7zm4 0h-2V7h2v10zm4 0h-2v-4h2v4z\"/>\n",
              "    </g>\n",
              "</svg>\n",
              "  </button>\n",
              "\n",
              "<style>\n",
              "  .colab-df-quickchart {\n",
              "      --bg-color: #E8F0FE;\n",
              "      --fill-color: #1967D2;\n",
              "      --hover-bg-color: #E2EBFA;\n",
              "      --hover-fill-color: #174EA6;\n",
              "      --disabled-fill-color: #AAA;\n",
              "      --disabled-bg-color: #DDD;\n",
              "  }\n",
              "\n",
              "  [theme=dark] .colab-df-quickchart {\n",
              "      --bg-color: #3B4455;\n",
              "      --fill-color: #D2E3FC;\n",
              "      --hover-bg-color: #434B5C;\n",
              "      --hover-fill-color: #FFFFFF;\n",
              "      --disabled-bg-color: #3B4455;\n",
              "      --disabled-fill-color: #666;\n",
              "  }\n",
              "\n",
              "  .colab-df-quickchart {\n",
              "    background-color: var(--bg-color);\n",
              "    border: none;\n",
              "    border-radius: 50%;\n",
              "    cursor: pointer;\n",
              "    display: none;\n",
              "    fill: var(--fill-color);\n",
              "    height: 32px;\n",
              "    padding: 0;\n",
              "    width: 32px;\n",
              "  }\n",
              "\n",
              "  .colab-df-quickchart:hover {\n",
              "    background-color: var(--hover-bg-color);\n",
              "    box-shadow: 0 1px 2px rgba(60, 64, 67, 0.3), 0 1px 3px 1px rgba(60, 64, 67, 0.15);\n",
              "    fill: var(--button-hover-fill-color);\n",
              "  }\n",
              "\n",
              "  .colab-df-quickchart-complete:disabled,\n",
              "  .colab-df-quickchart-complete:disabled:hover {\n",
              "    background-color: var(--disabled-bg-color);\n",
              "    fill: var(--disabled-fill-color);\n",
              "    box-shadow: none;\n",
              "  }\n",
              "\n",
              "  .colab-df-spinner {\n",
              "    border: 2px solid var(--fill-color);\n",
              "    border-color: transparent;\n",
              "    border-bottom-color: var(--fill-color);\n",
              "    animation:\n",
              "      spin 1s steps(1) infinite;\n",
              "  }\n",
              "\n",
              "  @keyframes spin {\n",
              "    0% {\n",
              "      border-color: transparent;\n",
              "      border-bottom-color: var(--fill-color);\n",
              "      border-left-color: var(--fill-color);\n",
              "    }\n",
              "    20% {\n",
              "      border-color: transparent;\n",
              "      border-left-color: var(--fill-color);\n",
              "      border-top-color: var(--fill-color);\n",
              "    }\n",
              "    30% {\n",
              "      border-color: transparent;\n",
              "      border-left-color: var(--fill-color);\n",
              "      border-top-color: var(--fill-color);\n",
              "      border-right-color: var(--fill-color);\n",
              "    }\n",
              "    40% {\n",
              "      border-color: transparent;\n",
              "      border-right-color: var(--fill-color);\n",
              "      border-top-color: var(--fill-color);\n",
              "    }\n",
              "    60% {\n",
              "      border-color: transparent;\n",
              "      border-right-color: var(--fill-color);\n",
              "    }\n",
              "    80% {\n",
              "      border-color: transparent;\n",
              "      border-right-color: var(--fill-color);\n",
              "      border-bottom-color: var(--fill-color);\n",
              "    }\n",
              "    90% {\n",
              "      border-color: transparent;\n",
              "      border-bottom-color: var(--fill-color);\n",
              "    }\n",
              "  }\n",
              "</style>\n",
              "\n",
              "  <script>\n",
              "    async function quickchart(key) {\n",
              "      const quickchartButtonEl =\n",
              "        document.querySelector('#' + key + ' button');\n",
              "      quickchartButtonEl.disabled = true;  // To prevent multiple clicks.\n",
              "      quickchartButtonEl.classList.add('colab-df-spinner');\n",
              "      try {\n",
              "        const charts = await google.colab.kernel.invokeFunction(\n",
              "            'suggestCharts', [key], {});\n",
              "      } catch (error) {\n",
              "        console.error('Error during call to suggestCharts:', error);\n",
              "      }\n",
              "      quickchartButtonEl.classList.remove('colab-df-spinner');\n",
              "      quickchartButtonEl.classList.add('colab-df-quickchart-complete');\n",
              "    }\n",
              "    (() => {\n",
              "      let quickchartButtonEl =\n",
              "        document.querySelector('#df-d7e8360c-592f-4bc1-aa8b-480d65224e59 button');\n",
              "      quickchartButtonEl.style.display =\n",
              "        google.colab.kernel.accessAllowed ? 'block' : 'none';\n",
              "    })();\n",
              "  </script>\n",
              "</div>\n",
              "    </div>\n",
              "  </div>\n"
            ],
            "application/vnd.google.colaboratory.intrinsic+json": {
              "type": "dataframe",
              "variable_name": "notas"
            }
          },
          "metadata": {},
          "execution_count": 82
        }
      ]
    },
    {
      "cell_type": "code",
      "source": [
        "comabuso.value_counts('Etnia')"
      ],
      "metadata": {
        "colab": {
          "base_uri": "https://localhost:8080/"
        },
        "id": "0e3r_UfOBIho",
        "outputId": "7dcdb0d8-15cc-4de4-ad46-684273274627"
      },
      "execution_count": 15,
      "outputs": [
        {
          "output_type": "execute_result",
          "data": {
            "text/plain": [
              "Etnia\n",
              "0.0    72\n",
              "1.0    31\n",
              "dtype: int64"
            ]
          },
          "metadata": {},
          "execution_count": 15
        }
      ]
    },
    {
      "cell_type": "code",
      "source": [
        "notas.value_counts('Etnia')"
      ],
      "metadata": {
        "colab": {
          "base_uri": "https://localhost:8080/"
        },
        "id": "wpamZnTqCUaN",
        "outputId": "36e31257-f88d-483b-f8df-e6f0d2d0715a"
      },
      "execution_count": 16,
      "outputs": [
        {
          "output_type": "execute_result",
          "data": {
            "text/plain": [
              "Etnia\n",
              "0.0    87\n",
              "1.0    44\n",
              "dtype: int64"
            ]
          },
          "metadata": {},
          "execution_count": 16
        }
      ]
    },
    {
      "cell_type": "code",
      "source": [
        "belif = notas[['D01','D02','D03','D04','D05','D06','D07','D08','D09','D10','D11','D12','D13','D14','abuso']]"
      ],
      "metadata": {
        "id": "vbYbRnGyD2H8"
      },
      "execution_count": 40,
      "outputs": []
    },
    {
      "cell_type": "code",
      "source": [
        "correlacao_spearman, p_valor = stats.pearsonr(belif['abuso'],belif['D12'])"
      ],
      "metadata": {
        "id": "rmqoyZuwnLsg"
      },
      "execution_count": 41,
      "outputs": []
    },
    {
      "cell_type": "code",
      "source": [
        "print(f'Correlação de Spearman: {correlacao_spearman}')\n",
        "print(f'P-valor: {p_valor}')"
      ],
      "metadata": {
        "colab": {
          "base_uri": "https://localhost:8080/"
        },
        "id": "aq7IaWaMnipe",
        "outputId": "242cf6ec-8761-4d86-e775-a5ae115f08bb"
      },
      "execution_count": 42,
      "outputs": [
        {
          "output_type": "stream",
          "name": "stdout",
          "text": [
            "Correlação de Spearman: -0.3435263511865098\n",
            "P-valor: 5.8916570852017576e-05\n"
          ]
        }
      ]
    },
    {
      "cell_type": "code",
      "source": [
        "correlation = belif.corr()"
      ],
      "metadata": {
        "id": "J4nO6Uymns4E"
      },
      "execution_count": 43,
      "outputs": []
    },
    {
      "cell_type": "code",
      "source": [
        "correlation"
      ],
      "metadata": {
        "colab": {
          "base_uri": "https://localhost:8080/",
          "height": 539
        },
        "id": "F_xPUhQin2G0",
        "outputId": "9db462af-47a7-4225-aa4d-62064a3b77a1"
      },
      "execution_count": 44,
      "outputs": [
        {
          "output_type": "execute_result",
          "data": {
            "text/plain": [
              "            D01       D02       D03       D04       D05       D06       D07  \\\n",
              "D01    1.000000  0.140267  0.131537 -0.164099 -0.049277  0.092618  0.106144   \n",
              "D02    0.140267  1.000000  0.303670 -0.342552  0.009910 -0.053916  0.027857   \n",
              "D03    0.131537  0.303670  1.000000 -0.318276  0.009881  0.002658 -0.040659   \n",
              "D04   -0.164099 -0.342552 -0.318276  1.000000 -0.014033  0.030156  0.044358   \n",
              "D05   -0.049277  0.009910  0.009881 -0.014033  1.000000  0.070199  0.232818   \n",
              "D06    0.092618 -0.053916  0.002658  0.030156  0.070199  1.000000  0.368005   \n",
              "D07    0.106144  0.027857 -0.040659  0.044358  0.232818  0.368005  1.000000   \n",
              "D08    0.173793  0.135980  0.327230 -0.358357 -0.056326  0.041577 -0.017448   \n",
              "D09    0.089023 -0.059667 -0.097735  0.082545  0.170380  0.250656  0.214522   \n",
              "D10    0.187822 -0.166130 -0.033804  0.032955 -0.121554 -0.153945 -0.143464   \n",
              "D11   -0.137116 -0.057579 -0.162616  0.198596  0.044888 -0.074929 -0.020623   \n",
              "D12   -0.110918 -0.096123 -0.071642  0.155195 -0.015845  0.098075  0.262063   \n",
              "D13   -0.202221 -0.211491 -0.241339  0.353778  0.019143 -0.006620  0.083875   \n",
              "D14    0.157033 -0.165412  0.036211 -0.037753  0.133737  0.125878  0.345630   \n",
              "abuso  0.205913  0.304903  0.398788 -0.447240 -0.031528  0.079247  0.046955   \n",
              "\n",
              "            D08       D09       D10       D11       D12       D13       D14  \\\n",
              "D01    0.173793  0.089023  0.187822 -0.137116 -0.110918 -0.202221  0.157033   \n",
              "D02    0.135980 -0.059667 -0.166130 -0.057579 -0.096123 -0.211491 -0.165412   \n",
              "D03    0.327230 -0.097735 -0.033804 -0.162616 -0.071642 -0.241339  0.036211   \n",
              "D04   -0.358357  0.082545  0.032955  0.198596  0.155195  0.353778 -0.037753   \n",
              "D05   -0.056326  0.170380 -0.121554  0.044888 -0.015845  0.019143  0.133737   \n",
              "D06    0.041577  0.250656 -0.153945 -0.074929  0.098075 -0.006620  0.125878   \n",
              "D07   -0.017448  0.214522 -0.143464 -0.020623  0.262063  0.083875  0.345630   \n",
              "D08    1.000000 -0.219399 -0.006194 -0.392329 -0.153108 -0.474912  0.047675   \n",
              "D09   -0.219399  1.000000 -0.007562  0.246917  0.294928  0.213899  0.202382   \n",
              "D10   -0.006194 -0.007562  1.000000 -0.002884  0.019859  0.060909  0.110901   \n",
              "D11   -0.392329  0.246917 -0.002884  1.000000  0.011345  0.188684 -0.036488   \n",
              "D12   -0.153108  0.294928  0.019859  0.011345  1.000000  0.214504  0.179493   \n",
              "D13   -0.474912  0.213899  0.060909  0.188684  0.214504  1.000000  0.008477   \n",
              "D14    0.047675  0.202382  0.110901 -0.036488  0.179493  0.008477  1.000000   \n",
              "abuso  0.587717 -0.355108 -0.033670 -0.332053 -0.343526 -0.655290  0.004262   \n",
              "\n",
              "          abuso  \n",
              "D01    0.205913  \n",
              "D02    0.304903  \n",
              "D03    0.398788  \n",
              "D04   -0.447240  \n",
              "D05   -0.031528  \n",
              "D06    0.079247  \n",
              "D07    0.046955  \n",
              "D08    0.587717  \n",
              "D09   -0.355108  \n",
              "D10   -0.033670  \n",
              "D11   -0.332053  \n",
              "D12   -0.343526  \n",
              "D13   -0.655290  \n",
              "D14    0.004262  \n",
              "abuso  1.000000  "
            ],
            "text/html": [
              "\n",
              "  <div id=\"df-7f79040e-dac0-49a3-9c28-b9af15782b8e\" class=\"colab-df-container\">\n",
              "    <div>\n",
              "<style scoped>\n",
              "    .dataframe tbody tr th:only-of-type {\n",
              "        vertical-align: middle;\n",
              "    }\n",
              "\n",
              "    .dataframe tbody tr th {\n",
              "        vertical-align: top;\n",
              "    }\n",
              "\n",
              "    .dataframe thead th {\n",
              "        text-align: right;\n",
              "    }\n",
              "</style>\n",
              "<table border=\"1\" class=\"dataframe\">\n",
              "  <thead>\n",
              "    <tr style=\"text-align: right;\">\n",
              "      <th></th>\n",
              "      <th>D01</th>\n",
              "      <th>D02</th>\n",
              "      <th>D03</th>\n",
              "      <th>D04</th>\n",
              "      <th>D05</th>\n",
              "      <th>D06</th>\n",
              "      <th>D07</th>\n",
              "      <th>D08</th>\n",
              "      <th>D09</th>\n",
              "      <th>D10</th>\n",
              "      <th>D11</th>\n",
              "      <th>D12</th>\n",
              "      <th>D13</th>\n",
              "      <th>D14</th>\n",
              "      <th>abuso</th>\n",
              "    </tr>\n",
              "  </thead>\n",
              "  <tbody>\n",
              "    <tr>\n",
              "      <th>D01</th>\n",
              "      <td>1.000000</td>\n",
              "      <td>0.140267</td>\n",
              "      <td>0.131537</td>\n",
              "      <td>-0.164099</td>\n",
              "      <td>-0.049277</td>\n",
              "      <td>0.092618</td>\n",
              "      <td>0.106144</td>\n",
              "      <td>0.173793</td>\n",
              "      <td>0.089023</td>\n",
              "      <td>0.187822</td>\n",
              "      <td>-0.137116</td>\n",
              "      <td>-0.110918</td>\n",
              "      <td>-0.202221</td>\n",
              "      <td>0.157033</td>\n",
              "      <td>0.205913</td>\n",
              "    </tr>\n",
              "    <tr>\n",
              "      <th>D02</th>\n",
              "      <td>0.140267</td>\n",
              "      <td>1.000000</td>\n",
              "      <td>0.303670</td>\n",
              "      <td>-0.342552</td>\n",
              "      <td>0.009910</td>\n",
              "      <td>-0.053916</td>\n",
              "      <td>0.027857</td>\n",
              "      <td>0.135980</td>\n",
              "      <td>-0.059667</td>\n",
              "      <td>-0.166130</td>\n",
              "      <td>-0.057579</td>\n",
              "      <td>-0.096123</td>\n",
              "      <td>-0.211491</td>\n",
              "      <td>-0.165412</td>\n",
              "      <td>0.304903</td>\n",
              "    </tr>\n",
              "    <tr>\n",
              "      <th>D03</th>\n",
              "      <td>0.131537</td>\n",
              "      <td>0.303670</td>\n",
              "      <td>1.000000</td>\n",
              "      <td>-0.318276</td>\n",
              "      <td>0.009881</td>\n",
              "      <td>0.002658</td>\n",
              "      <td>-0.040659</td>\n",
              "      <td>0.327230</td>\n",
              "      <td>-0.097735</td>\n",
              "      <td>-0.033804</td>\n",
              "      <td>-0.162616</td>\n",
              "      <td>-0.071642</td>\n",
              "      <td>-0.241339</td>\n",
              "      <td>0.036211</td>\n",
              "      <td>0.398788</td>\n",
              "    </tr>\n",
              "    <tr>\n",
              "      <th>D04</th>\n",
              "      <td>-0.164099</td>\n",
              "      <td>-0.342552</td>\n",
              "      <td>-0.318276</td>\n",
              "      <td>1.000000</td>\n",
              "      <td>-0.014033</td>\n",
              "      <td>0.030156</td>\n",
              "      <td>0.044358</td>\n",
              "      <td>-0.358357</td>\n",
              "      <td>0.082545</td>\n",
              "      <td>0.032955</td>\n",
              "      <td>0.198596</td>\n",
              "      <td>0.155195</td>\n",
              "      <td>0.353778</td>\n",
              "      <td>-0.037753</td>\n",
              "      <td>-0.447240</td>\n",
              "    </tr>\n",
              "    <tr>\n",
              "      <th>D05</th>\n",
              "      <td>-0.049277</td>\n",
              "      <td>0.009910</td>\n",
              "      <td>0.009881</td>\n",
              "      <td>-0.014033</td>\n",
              "      <td>1.000000</td>\n",
              "      <td>0.070199</td>\n",
              "      <td>0.232818</td>\n",
              "      <td>-0.056326</td>\n",
              "      <td>0.170380</td>\n",
              "      <td>-0.121554</td>\n",
              "      <td>0.044888</td>\n",
              "      <td>-0.015845</td>\n",
              "      <td>0.019143</td>\n",
              "      <td>0.133737</td>\n",
              "      <td>-0.031528</td>\n",
              "    </tr>\n",
              "    <tr>\n",
              "      <th>D06</th>\n",
              "      <td>0.092618</td>\n",
              "      <td>-0.053916</td>\n",
              "      <td>0.002658</td>\n",
              "      <td>0.030156</td>\n",
              "      <td>0.070199</td>\n",
              "      <td>1.000000</td>\n",
              "      <td>0.368005</td>\n",
              "      <td>0.041577</td>\n",
              "      <td>0.250656</td>\n",
              "      <td>-0.153945</td>\n",
              "      <td>-0.074929</td>\n",
              "      <td>0.098075</td>\n",
              "      <td>-0.006620</td>\n",
              "      <td>0.125878</td>\n",
              "      <td>0.079247</td>\n",
              "    </tr>\n",
              "    <tr>\n",
              "      <th>D07</th>\n",
              "      <td>0.106144</td>\n",
              "      <td>0.027857</td>\n",
              "      <td>-0.040659</td>\n",
              "      <td>0.044358</td>\n",
              "      <td>0.232818</td>\n",
              "      <td>0.368005</td>\n",
              "      <td>1.000000</td>\n",
              "      <td>-0.017448</td>\n",
              "      <td>0.214522</td>\n",
              "      <td>-0.143464</td>\n",
              "      <td>-0.020623</td>\n",
              "      <td>0.262063</td>\n",
              "      <td>0.083875</td>\n",
              "      <td>0.345630</td>\n",
              "      <td>0.046955</td>\n",
              "    </tr>\n",
              "    <tr>\n",
              "      <th>D08</th>\n",
              "      <td>0.173793</td>\n",
              "      <td>0.135980</td>\n",
              "      <td>0.327230</td>\n",
              "      <td>-0.358357</td>\n",
              "      <td>-0.056326</td>\n",
              "      <td>0.041577</td>\n",
              "      <td>-0.017448</td>\n",
              "      <td>1.000000</td>\n",
              "      <td>-0.219399</td>\n",
              "      <td>-0.006194</td>\n",
              "      <td>-0.392329</td>\n",
              "      <td>-0.153108</td>\n",
              "      <td>-0.474912</td>\n",
              "      <td>0.047675</td>\n",
              "      <td>0.587717</td>\n",
              "    </tr>\n",
              "    <tr>\n",
              "      <th>D09</th>\n",
              "      <td>0.089023</td>\n",
              "      <td>-0.059667</td>\n",
              "      <td>-0.097735</td>\n",
              "      <td>0.082545</td>\n",
              "      <td>0.170380</td>\n",
              "      <td>0.250656</td>\n",
              "      <td>0.214522</td>\n",
              "      <td>-0.219399</td>\n",
              "      <td>1.000000</td>\n",
              "      <td>-0.007562</td>\n",
              "      <td>0.246917</td>\n",
              "      <td>0.294928</td>\n",
              "      <td>0.213899</td>\n",
              "      <td>0.202382</td>\n",
              "      <td>-0.355108</td>\n",
              "    </tr>\n",
              "    <tr>\n",
              "      <th>D10</th>\n",
              "      <td>0.187822</td>\n",
              "      <td>-0.166130</td>\n",
              "      <td>-0.033804</td>\n",
              "      <td>0.032955</td>\n",
              "      <td>-0.121554</td>\n",
              "      <td>-0.153945</td>\n",
              "      <td>-0.143464</td>\n",
              "      <td>-0.006194</td>\n",
              "      <td>-0.007562</td>\n",
              "      <td>1.000000</td>\n",
              "      <td>-0.002884</td>\n",
              "      <td>0.019859</td>\n",
              "      <td>0.060909</td>\n",
              "      <td>0.110901</td>\n",
              "      <td>-0.033670</td>\n",
              "    </tr>\n",
              "    <tr>\n",
              "      <th>D11</th>\n",
              "      <td>-0.137116</td>\n",
              "      <td>-0.057579</td>\n",
              "      <td>-0.162616</td>\n",
              "      <td>0.198596</td>\n",
              "      <td>0.044888</td>\n",
              "      <td>-0.074929</td>\n",
              "      <td>-0.020623</td>\n",
              "      <td>-0.392329</td>\n",
              "      <td>0.246917</td>\n",
              "      <td>-0.002884</td>\n",
              "      <td>1.000000</td>\n",
              "      <td>0.011345</td>\n",
              "      <td>0.188684</td>\n",
              "      <td>-0.036488</td>\n",
              "      <td>-0.332053</td>\n",
              "    </tr>\n",
              "    <tr>\n",
              "      <th>D12</th>\n",
              "      <td>-0.110918</td>\n",
              "      <td>-0.096123</td>\n",
              "      <td>-0.071642</td>\n",
              "      <td>0.155195</td>\n",
              "      <td>-0.015845</td>\n",
              "      <td>0.098075</td>\n",
              "      <td>0.262063</td>\n",
              "      <td>-0.153108</td>\n",
              "      <td>0.294928</td>\n",
              "      <td>0.019859</td>\n",
              "      <td>0.011345</td>\n",
              "      <td>1.000000</td>\n",
              "      <td>0.214504</td>\n",
              "      <td>0.179493</td>\n",
              "      <td>-0.343526</td>\n",
              "    </tr>\n",
              "    <tr>\n",
              "      <th>D13</th>\n",
              "      <td>-0.202221</td>\n",
              "      <td>-0.211491</td>\n",
              "      <td>-0.241339</td>\n",
              "      <td>0.353778</td>\n",
              "      <td>0.019143</td>\n",
              "      <td>-0.006620</td>\n",
              "      <td>0.083875</td>\n",
              "      <td>-0.474912</td>\n",
              "      <td>0.213899</td>\n",
              "      <td>0.060909</td>\n",
              "      <td>0.188684</td>\n",
              "      <td>0.214504</td>\n",
              "      <td>1.000000</td>\n",
              "      <td>0.008477</td>\n",
              "      <td>-0.655290</td>\n",
              "    </tr>\n",
              "    <tr>\n",
              "      <th>D14</th>\n",
              "      <td>0.157033</td>\n",
              "      <td>-0.165412</td>\n",
              "      <td>0.036211</td>\n",
              "      <td>-0.037753</td>\n",
              "      <td>0.133737</td>\n",
              "      <td>0.125878</td>\n",
              "      <td>0.345630</td>\n",
              "      <td>0.047675</td>\n",
              "      <td>0.202382</td>\n",
              "      <td>0.110901</td>\n",
              "      <td>-0.036488</td>\n",
              "      <td>0.179493</td>\n",
              "      <td>0.008477</td>\n",
              "      <td>1.000000</td>\n",
              "      <td>0.004262</td>\n",
              "    </tr>\n",
              "    <tr>\n",
              "      <th>abuso</th>\n",
              "      <td>0.205913</td>\n",
              "      <td>0.304903</td>\n",
              "      <td>0.398788</td>\n",
              "      <td>-0.447240</td>\n",
              "      <td>-0.031528</td>\n",
              "      <td>0.079247</td>\n",
              "      <td>0.046955</td>\n",
              "      <td>0.587717</td>\n",
              "      <td>-0.355108</td>\n",
              "      <td>-0.033670</td>\n",
              "      <td>-0.332053</td>\n",
              "      <td>-0.343526</td>\n",
              "      <td>-0.655290</td>\n",
              "      <td>0.004262</td>\n",
              "      <td>1.000000</td>\n",
              "    </tr>\n",
              "  </tbody>\n",
              "</table>\n",
              "</div>\n",
              "    <div class=\"colab-df-buttons\">\n",
              "\n",
              "  <div class=\"colab-df-container\">\n",
              "    <button class=\"colab-df-convert\" onclick=\"convertToInteractive('df-7f79040e-dac0-49a3-9c28-b9af15782b8e')\"\n",
              "            title=\"Convert this dataframe to an interactive table.\"\n",
              "            style=\"display:none;\">\n",
              "\n",
              "  <svg xmlns=\"http://www.w3.org/2000/svg\" height=\"24px\" viewBox=\"0 -960 960 960\">\n",
              "    <path d=\"M120-120v-720h720v720H120Zm60-500h600v-160H180v160Zm220 220h160v-160H400v160Zm0 220h160v-160H400v160ZM180-400h160v-160H180v160Zm440 0h160v-160H620v160ZM180-180h160v-160H180v160Zm440 0h160v-160H620v160Z\"/>\n",
              "  </svg>\n",
              "    </button>\n",
              "\n",
              "  <style>\n",
              "    .colab-df-container {\n",
              "      display:flex;\n",
              "      gap: 12px;\n",
              "    }\n",
              "\n",
              "    .colab-df-convert {\n",
              "      background-color: #E8F0FE;\n",
              "      border: none;\n",
              "      border-radius: 50%;\n",
              "      cursor: pointer;\n",
              "      display: none;\n",
              "      fill: #1967D2;\n",
              "      height: 32px;\n",
              "      padding: 0 0 0 0;\n",
              "      width: 32px;\n",
              "    }\n",
              "\n",
              "    .colab-df-convert:hover {\n",
              "      background-color: #E2EBFA;\n",
              "      box-shadow: 0px 1px 2px rgba(60, 64, 67, 0.3), 0px 1px 3px 1px rgba(60, 64, 67, 0.15);\n",
              "      fill: #174EA6;\n",
              "    }\n",
              "\n",
              "    .colab-df-buttons div {\n",
              "      margin-bottom: 4px;\n",
              "    }\n",
              "\n",
              "    [theme=dark] .colab-df-convert {\n",
              "      background-color: #3B4455;\n",
              "      fill: #D2E3FC;\n",
              "    }\n",
              "\n",
              "    [theme=dark] .colab-df-convert:hover {\n",
              "      background-color: #434B5C;\n",
              "      box-shadow: 0px 1px 3px 1px rgba(0, 0, 0, 0.15);\n",
              "      filter: drop-shadow(0px 1px 2px rgba(0, 0, 0, 0.3));\n",
              "      fill: #FFFFFF;\n",
              "    }\n",
              "  </style>\n",
              "\n",
              "    <script>\n",
              "      const buttonEl =\n",
              "        document.querySelector('#df-7f79040e-dac0-49a3-9c28-b9af15782b8e button.colab-df-convert');\n",
              "      buttonEl.style.display =\n",
              "        google.colab.kernel.accessAllowed ? 'block' : 'none';\n",
              "\n",
              "      async function convertToInteractive(key) {\n",
              "        const element = document.querySelector('#df-7f79040e-dac0-49a3-9c28-b9af15782b8e');\n",
              "        const dataTable =\n",
              "          await google.colab.kernel.invokeFunction('convertToInteractive',\n",
              "                                                    [key], {});\n",
              "        if (!dataTable) return;\n",
              "\n",
              "        const docLinkHtml = 'Like what you see? Visit the ' +\n",
              "          '<a target=\"_blank\" href=https://colab.research.google.com/notebooks/data_table.ipynb>data table notebook</a>'\n",
              "          + ' to learn more about interactive tables.';\n",
              "        element.innerHTML = '';\n",
              "        dataTable['output_type'] = 'display_data';\n",
              "        await google.colab.output.renderOutput(dataTable, element);\n",
              "        const docLink = document.createElement('div');\n",
              "        docLink.innerHTML = docLinkHtml;\n",
              "        element.appendChild(docLink);\n",
              "      }\n",
              "    </script>\n",
              "  </div>\n",
              "\n",
              "\n",
              "<div id=\"df-99b61b28-a4ff-47cb-bf7c-af61e51b2bba\">\n",
              "  <button class=\"colab-df-quickchart\" onclick=\"quickchart('df-99b61b28-a4ff-47cb-bf7c-af61e51b2bba')\"\n",
              "            title=\"Suggest charts\"\n",
              "            style=\"display:none;\">\n",
              "\n",
              "<svg xmlns=\"http://www.w3.org/2000/svg\" height=\"24px\"viewBox=\"0 0 24 24\"\n",
              "     width=\"24px\">\n",
              "    <g>\n",
              "        <path d=\"M19 3H5c-1.1 0-2 .9-2 2v14c0 1.1.9 2 2 2h14c1.1 0 2-.9 2-2V5c0-1.1-.9-2-2-2zM9 17H7v-7h2v7zm4 0h-2V7h2v10zm4 0h-2v-4h2v4z\"/>\n",
              "    </g>\n",
              "</svg>\n",
              "  </button>\n",
              "\n",
              "<style>\n",
              "  .colab-df-quickchart {\n",
              "      --bg-color: #E8F0FE;\n",
              "      --fill-color: #1967D2;\n",
              "      --hover-bg-color: #E2EBFA;\n",
              "      --hover-fill-color: #174EA6;\n",
              "      --disabled-fill-color: #AAA;\n",
              "      --disabled-bg-color: #DDD;\n",
              "  }\n",
              "\n",
              "  [theme=dark] .colab-df-quickchart {\n",
              "      --bg-color: #3B4455;\n",
              "      --fill-color: #D2E3FC;\n",
              "      --hover-bg-color: #434B5C;\n",
              "      --hover-fill-color: #FFFFFF;\n",
              "      --disabled-bg-color: #3B4455;\n",
              "      --disabled-fill-color: #666;\n",
              "  }\n",
              "\n",
              "  .colab-df-quickchart {\n",
              "    background-color: var(--bg-color);\n",
              "    border: none;\n",
              "    border-radius: 50%;\n",
              "    cursor: pointer;\n",
              "    display: none;\n",
              "    fill: var(--fill-color);\n",
              "    height: 32px;\n",
              "    padding: 0;\n",
              "    width: 32px;\n",
              "  }\n",
              "\n",
              "  .colab-df-quickchart:hover {\n",
              "    background-color: var(--hover-bg-color);\n",
              "    box-shadow: 0 1px 2px rgba(60, 64, 67, 0.3), 0 1px 3px 1px rgba(60, 64, 67, 0.15);\n",
              "    fill: var(--button-hover-fill-color);\n",
              "  }\n",
              "\n",
              "  .colab-df-quickchart-complete:disabled,\n",
              "  .colab-df-quickchart-complete:disabled:hover {\n",
              "    background-color: var(--disabled-bg-color);\n",
              "    fill: var(--disabled-fill-color);\n",
              "    box-shadow: none;\n",
              "  }\n",
              "\n",
              "  .colab-df-spinner {\n",
              "    border: 2px solid var(--fill-color);\n",
              "    border-color: transparent;\n",
              "    border-bottom-color: var(--fill-color);\n",
              "    animation:\n",
              "      spin 1s steps(1) infinite;\n",
              "  }\n",
              "\n",
              "  @keyframes spin {\n",
              "    0% {\n",
              "      border-color: transparent;\n",
              "      border-bottom-color: var(--fill-color);\n",
              "      border-left-color: var(--fill-color);\n",
              "    }\n",
              "    20% {\n",
              "      border-color: transparent;\n",
              "      border-left-color: var(--fill-color);\n",
              "      border-top-color: var(--fill-color);\n",
              "    }\n",
              "    30% {\n",
              "      border-color: transparent;\n",
              "      border-left-color: var(--fill-color);\n",
              "      border-top-color: var(--fill-color);\n",
              "      border-right-color: var(--fill-color);\n",
              "    }\n",
              "    40% {\n",
              "      border-color: transparent;\n",
              "      border-right-color: var(--fill-color);\n",
              "      border-top-color: var(--fill-color);\n",
              "    }\n",
              "    60% {\n",
              "      border-color: transparent;\n",
              "      border-right-color: var(--fill-color);\n",
              "    }\n",
              "    80% {\n",
              "      border-color: transparent;\n",
              "      border-right-color: var(--fill-color);\n",
              "      border-bottom-color: var(--fill-color);\n",
              "    }\n",
              "    90% {\n",
              "      border-color: transparent;\n",
              "      border-bottom-color: var(--fill-color);\n",
              "    }\n",
              "  }\n",
              "</style>\n",
              "\n",
              "  <script>\n",
              "    async function quickchart(key) {\n",
              "      const quickchartButtonEl =\n",
              "        document.querySelector('#' + key + ' button');\n",
              "      quickchartButtonEl.disabled = true;  // To prevent multiple clicks.\n",
              "      quickchartButtonEl.classList.add('colab-df-spinner');\n",
              "      try {\n",
              "        const charts = await google.colab.kernel.invokeFunction(\n",
              "            'suggestCharts', [key], {});\n",
              "      } catch (error) {\n",
              "        console.error('Error during call to suggestCharts:', error);\n",
              "      }\n",
              "      quickchartButtonEl.classList.remove('colab-df-spinner');\n",
              "      quickchartButtonEl.classList.add('colab-df-quickchart-complete');\n",
              "    }\n",
              "    (() => {\n",
              "      let quickchartButtonEl =\n",
              "        document.querySelector('#df-99b61b28-a4ff-47cb-bf7c-af61e51b2bba button');\n",
              "      quickchartButtonEl.style.display =\n",
              "        google.colab.kernel.accessAllowed ? 'block' : 'none';\n",
              "    })();\n",
              "  </script>\n",
              "</div>\n",
              "    </div>\n",
              "  </div>\n"
            ],
            "application/vnd.google.colaboratory.intrinsic+json": {
              "type": "dataframe",
              "variable_name": "correlation",
              "summary": "{\n  \"name\": \"correlation\",\n  \"rows\": 15,\n  \"fields\": [\n    {\n      \"column\": \"D01\",\n      \"properties\": {\n        \"dtype\": \"number\",\n        \"std\": 0.28329302988513166,\n        \"min\": -0.20222113277531337,\n        \"max\": 1.0,\n        \"num_unique_values\": 15,\n        \"samples\": [\n          0.1878217610831638,\n          -0.11091807068752706,\n          1.0\n        ],\n        \"semantic_type\": \"\",\n        \"description\": \"\"\n      }\n    },\n    {\n      \"column\": \"D02\",\n      \"properties\": {\n        \"dtype\": \"number\",\n        \"std\": 0.31856552213854855,\n        \"min\": -0.34255187969135753,\n        \"max\": 1.0,\n        \"num_unique_values\": 15,\n        \"samples\": [\n          -0.16612955936609933,\n          -0.09612349227273262,\n          0.14026669633069355\n        ],\n        \"semantic_type\": \"\",\n        \"description\": \"\"\n      }\n    },\n    {\n      \"column\": \"D03\",\n      \"properties\": {\n        \"dtype\": \"number\",\n        \"std\": 0.32484720029477804,\n        \"min\": -0.31827579986707905,\n        \"max\": 1.0,\n        \"num_unique_values\": 15,\n        \"samples\": [\n          -0.03380388591127799,\n          -0.07164190302822292,\n          0.1315366652197176\n        ],\n        \"semantic_type\": \"\",\n        \"description\": \"\"\n      }\n    },\n    {\n      \"column\": \"D04\",\n      \"properties\": {\n        \"dtype\": \"number\",\n        \"std\": 0.3557694608864711,\n        \"min\": -0.4472399712809693,\n        \"max\": 1.0,\n        \"num_unique_values\": 15,\n        \"samples\": [\n          0.03295477938231265,\n          0.15519515760251235,\n          -0.16409932766389743\n        ],\n        \"semantic_type\": \"\",\n        \"description\": \"\"\n      }\n    },\n    {\n      \"column\": \"D05\",\n      \"properties\": {\n        \"dtype\": \"number\",\n        \"std\": 0.26717151904483327,\n        \"min\": -0.12155399777892927,\n        \"max\": 1.0,\n        \"num_unique_values\": 15,\n        \"samples\": [\n          -0.12155399777892927,\n          -0.01584472762962238,\n          -0.049277128768867834\n        ],\n        \"semantic_type\": \"\",\n        \"description\": \"\"\n      }\n    },\n    {\n      \"column\": \"D06\",\n      \"properties\": {\n        \"dtype\": \"number\",\n        \"std\": 0.27325731938362374,\n        \"min\": -0.153945062263842,\n        \"max\": 1.0,\n        \"num_unique_values\": 15,\n        \"samples\": [\n          -0.153945062263842,\n          0.09807544103716145,\n          0.09261794008877355\n        ],\n        \"semantic_type\": \"\",\n        \"description\": \"\"\n      }\n    },\n    {\n      \"column\": \"D07\",\n      \"properties\": {\n        \"dtype\": \"number\",\n        \"std\": 0.2738594486218577,\n        \"min\": -0.14346379745035373,\n        \"max\": 1.0,\n        \"num_unique_values\": 15,\n        \"samples\": [\n          -0.14346379745035373,\n          0.2620626803739519,\n          0.10614400440470369\n        ],\n        \"semantic_type\": \"\",\n        \"description\": \"\"\n      }\n    },\n    {\n      \"column\": \"D08\",\n      \"properties\": {\n        \"dtype\": \"number\",\n        \"std\": 0.3837043183394775,\n        \"min\": -0.4749124249626166,\n        \"max\": 1.0,\n        \"num_unique_values\": 15,\n        \"samples\": [\n          -0.006193536597813148,\n          -0.15310795668787275,\n          0.1737928300076924\n        ],\n        \"semantic_type\": \"\",\n        \"description\": \"\"\n      }\n    },\n    {\n      \"column\": \"D09\",\n      \"properties\": {\n        \"dtype\": \"number\",\n        \"std\": 0.304853546040535,\n        \"min\": -0.35510806495602226,\n        \"max\": 1.0,\n        \"num_unique_values\": 15,\n        \"samples\": [\n          -0.007561509322397374,\n          0.29492823328975254,\n          0.08902316988787645\n        ],\n        \"semantic_type\": \"\",\n        \"description\": \"\"\n      }\n    },\n    {\n      \"column\": \"D10\",\n      \"properties\": {\n        \"dtype\": \"number\",\n        \"std\": 0.2809391096334053,\n        \"min\": -0.16612955936609933,\n        \"max\": 1.0,\n        \"num_unique_values\": 15,\n        \"samples\": [\n          1.0,\n          0.019859411460110162,\n          0.1878217610831638\n        ],\n        \"semantic_type\": \"\",\n        \"description\": \"\"\n      }\n    },\n    {\n      \"column\": \"D11\",\n      \"properties\": {\n        \"dtype\": \"number\",\n        \"std\": 0.3210816500743314,\n        \"min\": -0.39232921471991017,\n        \"max\": 1.0,\n        \"num_unique_values\": 15,\n        \"samples\": [\n          -0.002884351555779797,\n          0.011344717483286691,\n          -0.13711634017618454\n        ],\n        \"semantic_type\": \"\",\n        \"description\": \"\"\n      }\n    },\n    {\n      \"column\": \"D12\",\n      \"properties\": {\n        \"dtype\": \"number\",\n        \"std\": 0.30442315022991706,\n        \"min\": -0.34352635118651004,\n        \"max\": 1.0,\n        \"num_unique_values\": 15,\n        \"samples\": [\n          0.019859411460110162,\n          1.0,\n          -0.11091807068752706\n        ],\n        \"semantic_type\": \"\",\n        \"description\": \"\"\n      }\n    },\n    {\n      \"column\": \"D13\",\n      \"properties\": {\n        \"dtype\": \"number\",\n        \"std\": 0.38306403854846344,\n        \"min\": -0.6552897128695961,\n        \"max\": 1.0,\n        \"num_unique_values\": 15,\n        \"samples\": [\n          0.06090922869829326,\n          0.2145038361889346,\n          -0.20222113277531337\n        ],\n        \"semantic_type\": \"\",\n        \"description\": \"\"\n      }\n    },\n    {\n      \"column\": \"D14\",\n      \"properties\": {\n        \"dtype\": \"number\",\n        \"std\": 0.26722654279211555,\n        \"min\": -0.1654117833268672,\n        \"max\": 1.0,\n        \"num_unique_values\": 15,\n        \"samples\": [\n          0.11090149625141932,\n          0.17949333314659324,\n          0.15703271687367928\n        ],\n        \"semantic_type\": \"\",\n        \"description\": \"\"\n      }\n    },\n    {\n      \"column\": \"abuso\",\n      \"properties\": {\n        \"dtype\": \"number\",\n        \"std\": 0.4327609857630862,\n        \"min\": -0.6552897128695961,\n        \"max\": 1.0,\n        \"num_unique_values\": 15,\n        \"samples\": [\n          -0.03367018316308999,\n          -0.34352635118651004,\n          0.20591349293433672\n        ],\n        \"semantic_type\": \"\",\n        \"description\": \"\"\n      }\n    }\n  ]\n}"
            }
          },
          "metadata": {},
          "execution_count": 44
        }
      ]
    },
    {
      "cell_type": "code",
      "source": [
        "correlation.to_excel('correlation-belief.xlsx')"
      ],
      "metadata": {
        "id": "KeI6MtxhQwP_"
      },
      "execution_count": 48,
      "outputs": []
    }
  ]
}